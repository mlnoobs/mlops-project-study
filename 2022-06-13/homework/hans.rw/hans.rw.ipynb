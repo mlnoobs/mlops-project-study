{
  "cells": [
    {
      "cell_type": "markdown",
      "id": "a5c8af00-4f5e-4414-bdac-4f0aa419b0a0",
      "metadata": {
        "id": "a5c8af00-4f5e-4414-bdac-4f0aa419b0a0"
      },
      "source": [
        "# 딥러닝 remind 세미나 Homework - Hans.rw"
      ]
    },
    {
      "cell_type": "markdown",
      "id": "bba4a834-32b4-4e69-8c38-a8b5cf066837",
      "metadata": {
        "id": "bba4a834-32b4-4e69-8c38-a8b5cf066837"
      },
      "source": [
        "## 필요 툴 라이브러리 설치"
      ]
    },
    {
      "cell_type": "code",
      "execution_count": null,
      "id": "69b446c0-7d07-41a0-bd6a-cbb249fec1fa",
      "metadata": {
        "tags": [],
        "id": "69b446c0-7d07-41a0-bd6a-cbb249fec1fa"
      },
      "outputs": [],
      "source": [
        "!pip install --upgrade pip\n",
        "!pip install torch\n",
        "!pip install torchvision\n",
        "!pip install numpy\n",
        "!pip install matplotlib"
      ]
    },
    {
      "cell_type": "markdown",
      "id": "c20c75b6-28ed-46bd-bd89-d323182d64b0",
      "metadata": {
        "id": "c20c75b6-28ed-46bd-bd89-d323182d64b0"
      },
      "source": [
        "## Import & 버전 확인 "
      ]
    },
    {
      "cell_type": "code",
      "execution_count": null,
      "id": "14f31cad-3f57-4b93-bfed-1c21914f3df5",
      "metadata": {
        "collapsed": true,
        "jupyter": {
          "outputs_hidden": true
        },
        "tags": [],
        "id": "14f31cad-3f57-4b93-bfed-1c21914f3df5"
      },
      "outputs": [],
      "source": [
        "!python --version\n",
        "!nvidia-smi\n",
        "import os\n",
        "import torch\n",
        "import torch.nn.functional as F\n",
        "import numpy as np\n",
        "import torchvision\n",
        "from matplotlib import pyplot as plt\n",
        "import time\n",
        "print(torch.__version__)\n",
        "print(np.__version__)\n",
        "print(torchvision.__version__)"
      ]
    },
    {
      "cell_type": "markdown",
      "id": "6508133f-5c74-4c23-932d-beb10fec877c",
      "metadata": {
        "id": "6508133f-5c74-4c23-932d-beb10fec877c"
      },
      "source": [
        "## Model 선언 - CNN, Linear, 각종 함수 마음껏 섞은 mnist model"
      ]
    },
    {
      "cell_type": "code",
      "execution_count": 4,
      "id": "335c4afd-a0af-4757-89b5-034f5c2be297",
      "metadata": {
        "id": "335c4afd-a0af-4757-89b5-034f5c2be297"
      },
      "outputs": [],
      "source": [
        "class ModelV3(torch.nn.Module):\n",
        "    def __init__(self):\n",
        "        super(ModelV3, self).__init__()\n",
        "        self.conv1 = torch.nn.Conv2d(1, 32, 3, 1)\n",
        "        self.conv2 = torch.nn.Conv2d(32, 64, 3, 1)\n",
        "        self.dropout1 = torch.nn.Dropout(0.25)\n",
        "        self.dropout2 = torch.nn.Dropout(0.5)\n",
        "        self.fc1 = torch.nn.Linear(9216, 128)\n",
        "        self.fc2 = torch.nn.Linear(128, 10)\n",
        "\n",
        "    def forward(self, x):\n",
        "        x = self.conv1(x)\n",
        "        x = F.relu(x)\n",
        "        x = self.conv2(x)\n",
        "        x = F.relu(x)\n",
        "        x = F.max_pool2d(x, 2)\n",
        "        x = self.dropout1(x)\n",
        "        x = torch.flatten(x, 1)\n",
        "        x = self.fc1(x)\n",
        "        x = F.relu(x)\n",
        "        x = self.dropout2(x)\n",
        "        x = self.fc2(x)\n",
        "        output = F.log_softmax(x, dim=1)\n",
        "        return output"
      ]
    },
    {
      "cell_type": "code",
      "execution_count": 5,
      "id": "052b216f-0f86-42ef-9338-eefd1e60999f",
      "metadata": {
        "id": "052b216f-0f86-42ef-9338-eefd1e60999f"
      },
      "outputs": [],
      "source": [
        "HOME_DIR = os.path.join(os.getcwd(), os.pardir, os.pardir)\n",
        "MNIST_AVG = 0.1307\n",
        "MNIST_STD = 0.3081\n",
        "\n",
        "seed = '202205281708'\n",
        "torch.manual_seed(seed)\n",
        "torch.cuda.manual_seed(seed)"
      ]
    },
    {
      "cell_type": "code",
      "source": [
        "# TODO\n",
        "# CURL 테스트를 위해서 npy 파일을 받는게 아니라 raw를 받게 해야함.\n",
        "# 하드코딩 config NO\n",
        "# model forward 안하고 mode()이렇게 해도 가능함! \n",
        "# _device에 따라서 model , data 둘 다 Gpu 로 넘어가야함 (image preprocessing에서 )\n",
        "class MnistInference():\n",
        "    def __init__(self):\n",
        "        #self.MODEL_DIR = os.path.join(HOME_DIR, 'model.pt')\n",
        "        #self.MODEL_DIR = \"./Users/hans.rw/mlops-project-study/2022-06-13/model.pt\"\n",
        "        self.MODEL_DIR = \"../model.pt\"\n",
        "        #self.MNIST_DATA_DIR = os.path.join(HOME_DIR, 'mnist_inputs.npy')\n",
        "        #self.MNIST_DATA_DIR = \"./Users/hans.rw/mlops-project-study/2022-06-13/mnist_inputs.npy\"\n",
        "        self.MNIST_DATA_DIR = \"../mnist_inputs.npy\"\n",
        "        # TODO: 요 부분들 분포 맞추는 이유 파악하기. normalize\n",
        "        # normalize 차이? -> 훈련데이터와의 분포를 똑같이 맞춰줘야함. \n",
        "        # 훈련데이터와 제일 비슷해야 성능이 잘 나오기 때문?! \n",
        "        self._norm_val={\"avg\":MNIST_AVG, \"std\":MNIST_STD}\n",
        "        self._cuda = torch.cuda.is_available()\n",
        "        self._device = torch.device(\"cuda\" if self._cuda else \"cpu\")\n",
        "        self._model = self._get_model()\n",
        "\n",
        "    def _get_model(self):\n",
        "        model = torch.load(self.MODEL_DIR)\n",
        "        self._model.to(self._device)\n",
        "        model = model.eval()\n",
        "        return model\n",
        "\n",
        "    def inference(self, input_image):\n",
        "        \"\"\"\n",
        "        INPUT numpy: mnist image\n",
        "        OUTPUT int : prediction using model \n",
        "        \"\"\"\n",
        "        if self._cuda:\n",
        "            input_image = input_image.to(self._device)\n",
        "\n",
        "        # TODO: torch.no_grad 무슨의미?\n",
        "        with torch.no_grad():\n",
        "            pred = self._model.forward(input_image)\n",
        "            if self._cuda:\n",
        "                pre = pred.to(\"cpu\")\n",
        "            # TODO: 무슨 의미? 1차원으로 바꾸는것?\n",
        "            pred = pred.argmax(dim=1, keepdim=False)\n",
        "        return pred\n",
        "    \n",
        "    def image_preprocessing(self, data):\n",
        "        \"\"\"\n",
        "        [10, 1, 28, 28]\n",
        "        \"\"\"\n",
        "        data = torch.from_numpy(data)\n",
        "        # channel dimension\n",
        "        data = data.unsqueeze(1)\n",
        "        # 한번 더 하면, batch dimension?\n",
        "        return data\n",
        "\n",
        "    def get_mnist_data(self):\n",
        "        \"\"\"\n",
        "        [10, 28, 28]\n",
        "        \"\"\"\n",
        "        data = np.load(self.MNIST_DATA_DIR)\n",
        "        return data\n",
        "\n",
        "    # TODO: raw image 값만 Input으로 받아야함. \n",
        "    # TODO: 여러장의 input을 받을 때 어떤 식으로 batch 처리를 할 지 로직이 필요함. for 문 돌려서 안함!! batch 처리함 \n",
        "    # Batch 처리가 훨씬 빠름\n",
        "    def process(self):\n",
        "        data = self.get_mnist_data()\n",
        "        print(data.dtype)\n",
        "        data = self.image_preprocessing(data)\n",
        "        print(data.dtype)\n",
        "        pred = self.inference(data)\n",
        "        return pred"
      ],
      "metadata": {
        "id": "BL5HU6n-t_MV"
      },
      "id": "BL5HU6n-t_MV",
      "execution_count": 6,
      "outputs": []
    },
    {
      "cell_type": "code",
      "source": [
        "mnist_inference = MnistInference()\n",
        "print(mnist_inference.process())"
      ],
      "metadata": {
        "id": "rXGSKVqXuEoL"
      },
      "id": "rXGSKVqXuEoL",
      "execution_count": null,
      "outputs": []
    },
    {
      "cell_type": "code",
      "source": [
        "!ls"
      ],
      "metadata": {
        "colab": {
          "base_uri": "https://localhost:8080/"
        },
        "id": "BYU5MOmmugrp",
        "outputId": "b1969cda-3b2e-4fd8-f89a-5cc6f9bc1bf0"
      },
      "id": "BYU5MOmmugrp",
      "execution_count": 18,
      "outputs": [
        {
          "output_type": "stream",
          "name": "stdout",
          "text": [
            "mnist_inputs.npy  model.pt  sample_data\n"
          ]
        }
      ]
    },
    {
      "cell_type": "code",
      "source": [
        ""
      ],
      "metadata": {
        "id": "Ih-eMjkduOsq"
      },
      "id": "Ih-eMjkduOsq",
      "execution_count": null,
      "outputs": []
    }
  ],
  "metadata": {
    "kernelspec": {
      "display_name": "4Core / Python3.8",
      "language": "python",
      "name": "4cpu_8mem_python"
    },
    "language_info": {
      "codemirror_mode": {
        "name": "ipython",
        "version": 3
      },
      "file_extension": ".py",
      "mimetype": "text/x-python",
      "name": "python",
      "nbconvert_exporter": "python",
      "pygments_lexer": "ipython3",
      "version": "3.8.8"
    },
    "colab": {
      "name": "hans.rw.ipynb",
      "provenance": []
    },
    "accelerator": "GPU"
  },
  "nbformat": 4,
  "nbformat_minor": 5
}