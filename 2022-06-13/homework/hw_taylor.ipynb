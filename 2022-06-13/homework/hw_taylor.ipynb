{
 "cells": [
  {
   "cell_type": "markdown",
   "id": "_ck6yHmNfb7F",
   "metadata": {
    "id": "_ck6yHmNfb7F"
   },
   "source": [
    "## 필요 툴&라이브러리 설치"
   ]
  },
  {
   "cell_type": "code",
   "execution_count": null,
   "id": "16ab2fea",
   "metadata": {},
   "outputs": [],
   "source": [
    "!pip install --upgrade pip\n",
    "!pip install torch\n",
    "!pip install torchvision\n",
    "!pip install numpy\n",
    "!pip install matplotlib"
   ]
  },
  {
   "cell_type": "markdown",
   "id": "N_XAZJXsgyY5",
   "metadata": {
    "id": "N_XAZJXsgyY5"
   },
   "source": [
    "## import"
   ]
  },
  {
   "cell_type": "code",
   "execution_count": null,
   "id": "fc419017",
   "metadata": {},
   "outputs": [],
   "source": [
    "import torch\n",
    "import torch.nn.functional as F\n",
    "import numpy as np\n",
    "from matplotlib import pyplot as plt\n",
    "import time"
   ]
  },
  {
   "cell_type": "markdown",
   "id": "293831b3",
   "metadata": {},
   "source": [
    "## Hyperpatemerers 등 configs 세팅"
   ]
  },
  {
   "cell_type": "code",
   "execution_count": null,
   "id": "174c7d88",
   "metadata": {},
   "outputs": [],
   "source": [
    "# 훈련 결과 재현을 위한 seed값 고정\n",
    "seed = '202205281708'\n",
    "torch.manual_seed(seed)\n",
    "torch.cuda.manual_seed(seed)\n",
    "\n",
    "# Hyperparameters\n",
    "config = {\n",
    "    'device': 'cuda' if torch.cuda.is_available() else 'cpu',\n",
    "    'mnist_mean': 0.1307,\n",
    "    'mnist_std': 0.3081,\n",
    "         }"
   ]
  },
  {
   "cell_type": "markdown",
   "id": "8f6e7980",
   "metadata": {},
   "source": [
    "## 모델 클래스 선언"
   ]
  },
  {
   "cell_type": "code",
   "execution_count": null,
   "id": "02c72c7e",
   "metadata": {},
   "outputs": [],
   "source": [
    "class ModelV3(torch.nn.Module):\n",
    "    def __init__(self):\n",
    "        super(ModelV3, self).__init__()\n",
    "        self.conv1 = torch.nn.Conv2d(1, 32, 3, 1)\n",
    "        self.conv2 = torch.nn.Conv2d(32, 64, 3, 1)\n",
    "        self.dropout1 = torch.nn.Dropout(0.25)\n",
    "        self.dropout2 = torch.nn.Dropout(0.5)\n",
    "        self.fc1 = torch.nn.Linear(9216, 128)\n",
    "        self.fc2 = torch.nn.Linear(128, 10)\n",
    "\n",
    "    def forward(self, x):\n",
    "        x = self.conv1(x)\n",
    "        x = F.relu(x)\n",
    "        x = self.conv2(x)\n",
    "        x = F.relu(x)\n",
    "        x = F.max_pool2d(x, 2)\n",
    "        x = self.dropout1(x)\n",
    "        x = torch.flatten(x, 1)\n",
    "        x = self.fc1(x)\n",
    "        x = F.relu(x)\n",
    "        x = self.dropout2(x)\n",
    "        x = self.fc2(x)\n",
    "        output = F.log_softmax(x, dim=1)\n",
    "        return output"
   ]
  },
  {
   "cell_type": "markdown",
   "id": "1ad3bc25",
   "metadata": {},
   "source": [
    "## 인퍼런스 클래스 선언"
   ]
  },
  {
   "cell_type": "code",
   "execution_count": null,
   "id": "2a973718",
   "metadata": {},
   "outputs": [],
   "source": [
    "class ModelV3Inferencer():\n",
    "    def __init__(self, model, config):\n",
    "        super(ModelV3Inferencer, self).__init__()\n",
    "        self.device = config['device']\n",
    "        self.mean = config['mnist_mean']\n",
    "        self.std = config['mnist_std']\n",
    "        self.model = model.to(self.device)\n",
    "        self.model.eval()\n",
    "\n",
    "    def load_and_preprocess_data(self, data_path):\n",
    "        '''\n",
    "        # 입력: [10, 28, 28] shape를 갖는 mnist_inputs.npy 파일 위치를 가리키는 string\n",
    "        # 출력: [10, 1, 28, 28] shape를 갖는 torch.Tensor data\n",
    "        '''\n",
    "        # data를 np.array로 불러옴\n",
    "        data = np.load(data_path)\n",
    "        \n",
    "        # data의 분포를 훈련 데이터 때의 분포와 동일하게 맞춰주기 위한 작업\n",
    "        data = (data - self.mean) / self.std\n",
    "        \n",
    "        # data를 np.array에서 torch.tensor로 변환\n",
    "        data = torch.from_numpy(data)\n",
    "        \n",
    "        # ModelV3는 [batch_size, channel, width, height] 4-Dimension 데이터를 입력받음\n",
    "        # channel에 해당하는 차원을 뚫어줘야 함\n",
    "        data = data.unsqueeze(1)\n",
    "        \n",
    "        return data\n",
    "        \n",
    "    def inference(self, data):\n",
    "        '''\n",
    "        # 입력: [N, 1, 28, 28] shape를 갖는 torch.Tensor data\n",
    "        # 출력: [N] shape를 갖는 torch.Tensor data\n",
    "        '''\n",
    "        with torch.no_grad():\n",
    "            # GPU를 사용 가능하다면 메모리를 이동\n",
    "            data = data.to(self.device)\n",
    "            \n",
    "            # 인퍼런스 후 출력을 cpu 메모리로 옮김\n",
    "            prob = self.model.forward(data)\n",
    "            output = prob.argmax(dim=1, keepdim=False)\n",
    "            return output.cpu()"
   ]
  },
  {
   "cell_type": "markdown",
   "id": "3053b781",
   "metadata": {},
   "source": [
    "## 인퍼런스 진행"
   ]
  },
  {
   "cell_type": "code",
   "execution_count": null,
   "id": "90eb1591",
   "metadata": {},
   "outputs": [],
   "source": [
    "model = torch.load('./model.pt')\n",
    "model_inferencer = ModelV3Inferencer(model, config)\n",
    "\n",
    "preprocessed_data_tensor = model_inferencer.load_and_preprocess_data('./mnist_inputs.npy')\n",
    "preprocessed_data_tensor = preprocessed_data_tensor.numpy()\n",
    "\n",
    "output_data_tensor = model_inferencer.inference(preprocessed_data)\n",
    "output_data = output_data_tensor.numpy()\n",
    "\n",
    "for in_d, out_d in zip(preprocessed_data, output_data):\n",
    "    plt.imshow(in_d[0])\n",
    "    plt.show()\n",
    "    print('output:', out_d)"
   ]
  }
 ],
 "metadata": {
  "accelerator": "GPU",
  "colab": {
   "collapsed_sections": [],
   "name": "training_remind_seminar.ipynb",
   "provenance": []
  },
  "kernelspec": {
   "display_name": "Python 3 (ipykernel)",
   "language": "python",
   "name": "python3"
  },
  "language_info": {
   "codemirror_mode": {
    "name": "ipython",
    "version": 3
   },
   "file_extension": ".py",
   "mimetype": "text/x-python",
   "name": "python",
   "nbconvert_exporter": "python",
   "pygments_lexer": "ipython3",
   "version": "3.10.4"
  }
 },
 "nbformat": 4,
 "nbformat_minor": 5
}
