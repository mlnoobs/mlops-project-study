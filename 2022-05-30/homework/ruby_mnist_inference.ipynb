{
 "cells": [
  {
   "cell_type": "markdown",
   "id": "12256fb1",
   "metadata": {
    "id": "12256fb1"
   },
   "source": [
    "[![Open In Colab](https://colab.research.google.com/assets/colab-badge.svg)](https://colab.research.google.com/github/mlnoobs/mlops-project-study/blob/main/2022-05-30/training_remind_seminar.ipynb)\n",
    "\n",
    "# 딥러닝 remind 세미나 1\n",
    "taylor (2022-05-30)\n",
    "\n",
    "- Linear(Fully-Connected layer), CNN(Convolutional neural network) 훈련 및 인퍼런스를 PyTorch를 사용해 google colab GPU에서 시도합니다.\n",
    "- 노트북 제작에 있어 다음 레퍼런스를 많이 참고했습니다.\n",
    "  - https://github.com/espnet/notebook/blob/master/tts_realtime_demo.ipynb\n",
    "  - https://github.com/pytorch/examples/blob/main/mnist/main.py"
   ]
  },
  {
   "cell_type": "markdown",
   "id": "_ck6yHmNfb7F",
   "metadata": {
    "id": "_ck6yHmNfb7F"
   },
   "source": [
    "## 필요 툴&라이브러리 설치"
   ]
  },
  {
   "cell_type": "code",
   "execution_count": 26,
   "id": "kPHKc8y7fqMk",
   "metadata": {
    "id": "kPHKc8y7fqMk"
   },
   "outputs": [
    {
     "name": "stdout",
     "output_type": "stream",
     "text": [
      "Requirement already satisfied: pip in /Users/ruby/opt/anaconda3/lib/python3.8/site-packages (22.1.2)\n",
      "Requirement already satisfied: torch in /Users/ruby/opt/anaconda3/lib/python3.8/site-packages (1.11.0)\n",
      "Requirement already satisfied: typing-extensions in /Users/ruby/opt/anaconda3/lib/python3.8/site-packages (from torch) (4.0.1)\n",
      "Requirement already satisfied: torchvision in /Users/ruby/opt/anaconda3/lib/python3.8/site-packages (0.12.0)\n",
      "Requirement already satisfied: numpy in /Users/ruby/opt/anaconda3/lib/python3.8/site-packages (from torchvision) (1.20.1)\n",
      "Requirement already satisfied: typing-extensions in /Users/ruby/opt/anaconda3/lib/python3.8/site-packages (from torchvision) (4.0.1)\n",
      "Requirement already satisfied: pillow!=8.3.*,>=5.3.0 in /Users/ruby/opt/anaconda3/lib/python3.8/site-packages (from torchvision) (8.2.0)\n",
      "Requirement already satisfied: torch==1.11.0 in /Users/ruby/opt/anaconda3/lib/python3.8/site-packages (from torchvision) (1.11.0)\n",
      "Requirement already satisfied: requests in /Users/ruby/opt/anaconda3/lib/python3.8/site-packages (from torchvision) (2.25.1)\n",
      "Requirement already satisfied: certifi>=2017.4.17 in /Users/ruby/opt/anaconda3/lib/python3.8/site-packages (from requests->torchvision) (2020.12.5)\n",
      "Requirement already satisfied: idna<3,>=2.5 in /Users/ruby/opt/anaconda3/lib/python3.8/site-packages (from requests->torchvision) (2.10)\n",
      "Requirement already satisfied: urllib3<1.27,>=1.21.1 in /Users/ruby/opt/anaconda3/lib/python3.8/site-packages (from requests->torchvision) (1.26.4)\n",
      "Requirement already satisfied: chardet<5,>=3.0.2 in /Users/ruby/opt/anaconda3/lib/python3.8/site-packages (from requests->torchvision) (4.0.0)\n",
      "Requirement already satisfied: numpy in /Users/ruby/opt/anaconda3/lib/python3.8/site-packages (1.20.1)\n",
      "Requirement already satisfied: matplotlib in /Users/ruby/opt/anaconda3/lib/python3.8/site-packages (3.3.4)\n",
      "Requirement already satisfied: pyparsing!=2.0.4,!=2.1.2,!=2.1.6,>=2.0.3 in /Users/ruby/opt/anaconda3/lib/python3.8/site-packages (from matplotlib) (2.4.7)\n",
      "Requirement already satisfied: python-dateutil>=2.1 in /Users/ruby/opt/anaconda3/lib/python3.8/site-packages (from matplotlib) (2.8.1)\n",
      "Requirement already satisfied: kiwisolver>=1.0.1 in /Users/ruby/opt/anaconda3/lib/python3.8/site-packages (from matplotlib) (1.3.1)\n",
      "Requirement already satisfied: pillow>=6.2.0 in /Users/ruby/opt/anaconda3/lib/python3.8/site-packages (from matplotlib) (8.2.0)\n",
      "Requirement already satisfied: cycler>=0.10 in /Users/ruby/opt/anaconda3/lib/python3.8/site-packages (from matplotlib) (0.10.0)\n",
      "Requirement already satisfied: numpy>=1.15 in /Users/ruby/opt/anaconda3/lib/python3.8/site-packages (from matplotlib) (1.20.1)\n",
      "Requirement already satisfied: six in /Users/ruby/opt/anaconda3/lib/python3.8/site-packages (from cycler>=0.10->matplotlib) (1.15.0)\n",
      "Collecting opencv-python\n",
      "  Downloading opencv_python-4.5.5.64-cp36-abi3-macosx_10_15_x86_64.whl (46.3 MB)\n",
      "\u001b[2K     \u001b[38;2;114;156;31m━━━━━━━━━━━━━━━━━━━━━━━━━━━━━━━━━━━━━━━━\u001b[0m \u001b[32m46.3/46.3 MB\u001b[0m \u001b[31m4.1 MB/s\u001b[0m eta \u001b[36m0:00:00\u001b[0mm eta \u001b[36m0:00:01\u001b[0m[36m0:00:01\u001b[0m\n",
      "\u001b[?25hRequirement already satisfied: numpy>=1.14.5 in /Users/ruby/opt/anaconda3/lib/python3.8/site-packages (from opencv-python) (1.20.1)\n",
      "Installing collected packages: opencv-python\n",
      "Successfully installed opencv-python-4.5.5.64\n"
     ]
    }
   ],
   "source": [
    "!pip install --upgrade pip\n",
    "!pip install torch\n",
    "!pip install torchvision\n",
    "!pip install numpy\n",
    "!pip install matplotlib\n",
    "!pip install opencv-python\n"
   ]
  },
  {
   "cell_type": "markdown",
   "id": "N_XAZJXsgyY5",
   "metadata": {
    "id": "N_XAZJXsgyY5"
   },
   "source": [
    "## import & 버전 확인"
   ]
  },
  {
   "cell_type": "code",
   "execution_count": 27,
   "id": "jEIP5rscg3ZD",
   "metadata": {
    "id": "jEIP5rscg3ZD"
   },
   "outputs": [
    {
     "name": "stdout",
     "output_type": "stream",
     "text": [
      "Python 3.8.8\n",
      "zsh:1: command not found: nvidia-smi\n",
      "1.11.0\n",
      "1.20.1\n",
      "0.12.0\n"
     ]
    }
   ],
   "source": [
    "!python --version\n",
    "!nvidia-smi\n",
    "import torch\n",
    "import torch.nn.functional as F\n",
    "import numpy as np\n",
    "import torchvision\n",
    "from matplotlib import pyplot as plt\n",
    "import time\n",
    "print(torch.__version__)\n",
    "print(np.__version__)\n",
    "print(torchvision.__version__)\n"
   ]
  },
  {
   "cell_type": "markdown",
   "id": "4t53bdHUjmDC",
   "metadata": {
    "id": "4t53bdHUjmDC"
   },
   "source": [
    "## Hyperpatemerers 등 configs 세팅"
   ]
  },
  {
   "cell_type": "code",
   "execution_count": 28,
   "id": "bduUNYwgjtE0",
   "metadata": {
    "id": "bduUNYwgjtE0"
   },
   "outputs": [
    {
     "name": "stdout",
     "output_type": "stream",
     "text": [
      "device: cpu\n",
      "- gpu를 사용할 수 있는 환경이면 'cuda', 그렇지 않으면 'cpu'를 사용합니다.\n",
      "lr: 0.01\n",
      "- learning rate는 이번 훈련으로 얻어낸 gradients를 얼마만큼의 강도로 모델 업데이트에 반영할지를 결정합니다.\n",
      "n_epochs: 10\n",
      "- epoch의 횟수는 전체 데이터셋을 몇 번 반복해서 훈련할 것인지를 결정합니다.\n",
      "batch_size: 512\n",
      "- 훈련 시 mini-batch의 사이즈를 결정합니다.\n",
      "- SGD(stochastic gradient descent) 기반의 optimizer를 사용한다면,\n",
      "- 전체 데이터셋을 자그마한 mini-batch로 나누어서 순차적으로 훈련에 사용하게 됩니다.\n",
      "- 보통 클수록 보다 성능을 높이는 방향으로 훈련될 가능성이 높지만 메모리를 많이 차지하게 됩니다.\n"
     ]
    }
   ],
   "source": [
    "# 훈련 결과 재현을 위한 seed값 고정\n",
    "seed = '202205281708'\n",
    "torch.manual_seed(seed)\n",
    "torch.cuda.manual_seed(seed)\n",
    "\n",
    "# Hyperparameters\n",
    "device = 'cuda' if torch.cuda.is_available() else 'cpu'\n",
    "lr = 1e-2\n",
    "n_epochs = 10\n",
    "batch_size = 512\n",
    "\n",
    "print(\"device:\", device)\n",
    "print(\"- gpu를 사용할 수 있는 환경이면 \\'cuda\\', 그렇지 않으면 \\'cpu\\'를 사용합니다.\")\n",
    "print(\"lr:\", lr)\n",
    "print(\"- learning rate는 이번 훈련으로 얻어낸 gradients를 얼마만큼의 강도로 모델 업데이트에 반영할지를 결정합니다.\")\n",
    "print(\"n_epochs:\", n_epochs)\n",
    "print(\"- epoch의 횟수는 전체 데이터셋을 몇 번 반복해서 훈련할 것인지를 결정합니다.\")\n",
    "print(\"batch_size:\", batch_size)\n",
    "print(\"- 훈련 시 mini-batch의 사이즈를 결정합니다.\")\n",
    "print(\"- SGD(stochastic gradient descent) 기반의 optimizer를 사용한다면,\")\n",
    "print(\"- 전체 데이터셋을 자그마한 mini-batch로 나누어서 순차적으로 훈련에 사용하게 됩니다.\")\n",
    "print(\"- 보통 클수록 보다 성능을 높이는 방향으로 훈련될 가능성이 높지만 메모리를 많이 차지하게 됩니다.\")"
   ]
  },
  {
   "cell_type": "markdown",
   "id": "N6HFmHqphvVO",
   "metadata": {
    "id": "N6HFmHqphvVO"
   },
   "source": [
    "## 공개 데이터셋 다운로드: MNIST\n",
    "torchvision 라이브러리를 사용하면 공개 데이터셋을 편리하게 다운로드받고, torch tensor 자료형으로 불러올 수 있습니다."
   ]
  },
  {
   "cell_type": "code",
   "execution_count": 64,
   "id": "zmt6BsoYiiQq",
   "metadata": {
    "id": "zmt6BsoYiiQq"
   },
   "outputs": [
    {
     "name": "stdout",
     "output_type": "stream",
     "text": [
      "len(train_data): 60000\n",
      "len(test_data): 10000\n",
      "shape: torch.Size([1, 28, 28])\n",
      "label: 3\n",
      "maxval: tensor(2.8215)\n",
      "minval: tensor(-0.4242)\n",
      "mean of all training dataset: tensor(-0.0001)\n",
      "var of all training dataset: tensor(1.0001)\n"
     ]
    },
    {
     "data": {
      "image/png": "[encoded data removed]",
      "text/plain": [
       "<Figure size 432x288 with 1 Axes>"
      ]
     },
     "metadata": {
      "needs_background": "light"
     },
     "output_type": "display_data"
    }
   ],
   "source": [
    "# torchvision 라이브러리를 사용해 MNIST 데이터셋 다운로드 및 전처리\n",
    "transform = torchvision.transforms.Compose([\n",
    "                torchvision.transforms.ToTensor(),\n",
    "                torchvision.transforms.Normalize((0.1307,), (0.3081,)) # MNIST 데이터셋의 평균과 표준편차\n",
    "            ])\n",
    "train_data = torchvision.datasets.MNIST('./mnist_dataset', train=True, download=True,\n",
    "                            transform=transform)\n",
    "test_data = torchvision.datasets.MNIST('./mnist_dataset', train=False, download=True,\n",
    "                            transform=transform)\n",
    "print('len(train_data):', len(train_data))\n",
    "print('len(test_data):', len(test_data))\n",
    "\n",
    "# 데이터 정보를 확인해봅시다.\n",
    "sample = train_data[1234]\n",
    "print('shape:', sample[0].shape)\n",
    "print('label:', sample[1])\n",
    "print('maxval:', torch.max(sample[0]))\n",
    "print('minval:', torch.min(sample[0]))\n",
    "train_data_without_labels = torch.stack([s[0] for s in train_data])\n",
    "print('mean of all training dataset:', torch.mean(train_data_without_labels))\n",
    "print('var of all training dataset:', torch.var(train_data_without_labels))\n",
    "plt.imshow(sample[0][0])\n",
    "plt.show()\n",
    "\n",
    "# torch의 DataLoader를 사용하면 데이터셋을 준비하는 과정이 편리합니다.\n",
    "train_loader = torch.utils.data.DataLoader(dataset=train_data,\n",
    "                                           batch_size=batch_size,\n",
    "                                           shuffle=True)\n",
    "test_loader = torch.utils.data.DataLoader(dataset=test_data,\n",
    "                                          batch_size=1000,\n",
    "                                          shuffle=True)"
   ]
  },
  {
   "cell_type": "markdown",
   "id": "N4ffWtEayY-t",
   "metadata": {
    "id": "N4ffWtEayY-t"
   },
   "source": [
    "## 훈련 & 테스트 코드"
   ]
  },
  {
   "cell_type": "code",
   "execution_count": 30,
   "id": "36NR-n81yb0l",
   "metadata": {
    "id": "36NR-n81yb0l"
   },
   "outputs": [],
   "source": [
    "def train_model(model, device, train_loader, optimizer, n_epochs, fn_loss,\n",
    "                log_interval=10000):\n",
    "    model.train()\n",
    "    for epoch in range(1, n_epochs + 1):\n",
    "        for batch_idx, (data, target) in enumerate(train_loader):\n",
    "            data = data.to(device)\n",
    "            target = target.to(device)\n",
    "            optimizer.zero_grad()\n",
    "            output = model(data)\n",
    "            loss = fn_loss(output, target)\n",
    "            loss.backward()\n",
    "            optimizer.step()\n",
    "            if batch_idx % (log_interval // len(data)) == 0:\n",
    "                print('Train Epoch: {} [{}/{} ({:.0f}%)]\\tLoss: {:.6f}'.format(\n",
    "                      epoch, batch_idx * len(data), len(train_loader.dataset),\n",
    "                      100. * batch_idx / len(train_loader), loss.item()))\n",
    "            \n",
    "def test_model(model, device, test_loader, fn_loss):\n",
    "    model.eval()\n",
    "    test_loss = 0\n",
    "    correct = 0\n",
    "    with torch.no_grad():\n",
    "        for data, target in test_loader:\n",
    "            data = data.to(device)\n",
    "            target = target.to(device)\n",
    "            output = model(data)\n",
    "            test_loss += F.nll_loss(output, target, reduction='sum').item()\n",
    "            pred = output.argmax(dim=1, keepdim=True)\n",
    "            correct += pred.eq(target.view_as(pred)).sum().item()\n",
    "\n",
    "    test_loss /= len(test_loader.dataset)\n",
    "\n",
    "    print('\\nTest set: Average loss: {:.4f}, Accuracy: {}/{} ({:.0f}%)\\n'.format(\n",
    "        test_loss, correct, len(test_loader.dataset),\n",
    "        100. * correct / len(test_loader.dataset)))"
   ]
  },
  {
   "cell_type": "markdown",
   "id": "6bdc03e1",
   "metadata": {},
   "source": [
    "## inference 위해서 모델 저장 및 불러오는 방법\n",
    "    1. 데이터 불러올 때 필요한 라이브러리들 불러오기\n",
    "    2. 신경망을 구성하고 초기화하기\n",
    "    3. 옵티마이저 초기화하기\n",
    "    4. state_dict 을 통해 모델을 저장하고 불러오기\n",
    "    5. 전체 모델을 저장하고 불러오기\n",
    "        # 경로 지정\n",
    "        PATH = \"entire_model.pt\"\n",
    "        # 저장하기\n",
    "        torch.save(net, PATH)\n",
    "        # 불러오기\n",
    "        model = torch.load(PATH)\n",
    "        model.eval()\n",
    "        \n",
    "        \n",
    "추론을 할때는 학습 단계에서 처럼 DataLoader를 활용할 필요 없음.\n",
    "- 일반적으로 추론은 이미지가 1장씩 Input으로 들어가게 되기 때문이며, 미래에 획득할 이미지를 추론한다는 의미에서 Real-Time을 가정했을때 Batch단위로 들어갈 일이 없기 때문이다. (수집된 이미지를 저장해두었다가 추론하는 경우는 DataLoader를 활용하는것이 좋음)"
   ]
  },
  {
   "cell_type": "markdown",
   "id": "NFfzHcVFq0dN",
   "metadata": {
    "id": "NFfzHcVFq0dN"
   },
   "source": [
    "## 예제 1: Linear layer 1개"
   ]
  },
  {
   "cell_type": "code",
   "execution_count": 31,
   "id": "7jeFas2enrEe",
   "metadata": {
    "id": "7jeFas2enrEe"
   },
   "outputs": [
    {
     "name": "stdout",
     "output_type": "stream",
     "text": [
      "loading ModelV1...\n",
      "loaded ModelV1 to cpu\n",
      "ModelV1(\n",
      "  (layers): Sequential(\n",
      "    (0): Linear(in_features=784, out_features=10, bias=True)\n",
      "  )\n",
      ")\n"
     ]
    }
   ],
   "source": [
    "class ModelV1(torch.nn.Module):\n",
    "    def __init__(self):\n",
    "        super(ModelV1, self).__init__()\n",
    "        self.input_size = 28*28\n",
    "        self.output_size = 10\n",
    "        self.layers = torch.nn.Sequential(\n",
    "            torch.nn.Linear(self.input_size, self.output_size),\n",
    "        )\n",
    "\n",
    "    def forward(self, x):\n",
    "        x = x.view(-1, self.input_size)\n",
    "        for layer in self.layers:\n",
    "            x = layer(x)\n",
    "        output = F.log_softmax(x, dim=1)\n",
    "        return output\n",
    "    \n",
    "print(\"loading ModelV1...\") \n",
    "model = ModelV1().to(device)\n",
    "optimizer = torch.optim.SGD(model.parameters(), lr=lr)\n",
    "fn_loss = F.nll_loss\n",
    "print(\"loaded ModelV1 to {}\".format(device))\n",
    "print(model)"
   ]
  },
  {
   "cell_type": "code",
   "execution_count": 38,
   "id": "dca7e3b0",
   "metadata": {},
   "outputs": [
    {
     "name": "stdout",
     "output_type": "stream",
     "text": [
      "Number of model parameters:  7850\n",
      "device: cpu\n",
      "lr: 0.01\n",
      "n_epochs: 10\n",
      "batch_size: 512\n",
      "Train Epoch: 1 [0/60000 (0%)]\tLoss: 0.316617\n",
      "Train Epoch: 2 [0/60000 (0%)]\tLoss: 0.319297\n",
      "Train Epoch: 3 [0/60000 (0%)]\tLoss: 0.382666\n",
      "Train Epoch: 4 [0/60000 (0%)]\tLoss: 0.294995\n",
      "Train Epoch: 5 [0/60000 (0%)]\tLoss: 0.295121\n",
      "Train Epoch: 6 [0/60000 (0%)]\tLoss: 0.242542\n",
      "Train Epoch: 7 [0/60000 (0%)]\tLoss: 0.318029\n",
      "Train Epoch: 8 [0/60000 (0%)]\tLoss: 0.299951\n",
      "Train Epoch: 9 [0/60000 (0%)]\tLoss: 0.283152\n",
      "Train Epoch: 10 [0/60000 (0%)]\tLoss: 0.283107\n",
      "\n",
      "Test set: Average loss: 0.3216, Accuracy: 9099/10000 (91%)\n",
      "\n",
      "Train/Eval done. elapsed: 60.15913430200089 sec\n"
     ]
    }
   ],
   "source": [
    "print('Number of model parameters: ', sum(param.numel() for param in model.parameters()))\n",
    "print(\"device:\", device)\n",
    "print(\"lr:\", lr)\n",
    "print(\"n_epochs:\", n_epochs)\n",
    "print(\"batch_size:\", batch_size)\n",
    "\n",
    "t = time.perf_counter()\n",
    "train_model(model, device, train_loader, optimizer, n_epochs, fn_loss, log_interval=60000)\n",
    "test_model(model, device, test_loader, fn_loss)\n",
    "print(\"Train/Eval done. elapsed: {} sec\".format(time.perf_counter() - t))"
   ]
  },
  {
   "cell_type": "code",
   "execution_count": 122,
   "id": "9d686a4b",
   "metadata": {},
   "outputs": [],
   "source": [
    "import cv2\n",
    "\n",
    "def save_model(model, PATH):\n",
    "    #PATH = \"~/Documents/MLopsproject/mlops-project-study/2022-05-30/homework/model/model.pt\"\n",
    "    torch.save(model, PATH)\n",
    "    \n",
    "def load_model(PATH):\n",
    "    model = torch.load(PATH)\n",
    "    model.eval()\n",
    "    return model\n",
    "    \n",
    "def classification_img(img_path, model):\n",
    "\n",
    "    device = torch.device('cuda:0' if torch.cuda.is_available() else 'cpu')\n",
    "\n",
    "    img = cv2.imread(img_path, cv2.IMREAD_GRAYSCALE)\n",
    "    print(img)\n",
    "    #img = cv2.cvtColor(img, cv2.COLOR_BGR2RGB) # opencv는 BGR순서로 read한다.\n",
    "    img = torch.from_numpy(img).float()\n",
    "    #img = img.permute(2, 0, 1).squeeze(0) # (H, W, C) -> (C, H, W) -> (1, C, H, W)\n",
    "\n",
    "    model = model.to(device)\n",
    "    img = img.to(device)\n",
    "\n",
    "    model.eval()    #nn.Module에서 train time과 eval time에서 수행하는 다른 작업을 수행할 수 있도록 switching 하는 함수\n",
    "    criterion = torch.nn.Softmax()\n",
    "    out = model(img)\n",
    "    label_idx = torch.argmax(out, dim=1)\n",
    "    prob = criterion(out)\n",
    "\n",
    "    return prob, label_idx\n",
    "\n",
    "\n",
    "def inference_model(model,infer_img_dir):\n",
    "    for img in os.scandir(infer_img_dir):\n",
    "        img_path = os.path.join(infer_img_dir, img.name)\n",
    "\n",
    "    pred, label_idx = classification_img(img_path, model)\n",
    "\n",
    "    #label_name = label_map[label_idx]\n",
    "    print(f'Prob of {label_name}: {100 * prob:.4f}%')\n",
    "    \n",
    "    \n",
    "def inference_model_mnist_img(model, img):\n",
    "    device = torch.device('cuda:0' if torch.cuda.is_available() else 'cpu')\n",
    "    model = model.to(device)\n",
    "    img = img.to(device)\n",
    "\n",
    "    model.eval()    #nn.Module에서 train time과 eval time에서 수행하는 다른 작업을 수행할 수 있도록 switching 하는 함수\n",
    "    #criterion = torch.nn.Softmax()\n",
    "    #prob = criterion(out)\n",
    "    out = model(img)\n",
    "    label_idx = torch.argmax(out, dim=1)\n",
    "\n",
    "    print(\"inference : \", label_idx[0])\n",
    "    #print(f'Prob of {label_name}: {100 * prob:.4f}%')"
   ]
  },
  {
   "cell_type": "code",
   "execution_count": 123,
   "id": "fdb0674b",
   "metadata": {},
   "outputs": [
    {
     "name": "stdout",
     "output_type": "stream",
     "text": [
      "shape: torch.Size([1, 28, 28])\n",
      "label: 3\n"
     ]
    },
    {
     "data": {
      "image/png": "[encoded data removed]",
      "text/plain": [
       "<Figure size 432x288 with 1 Axes>"
      ]
     },
     "metadata": {
      "needs_background": "light"
     },
     "output_type": "display_data"
    },
    {
     "name": "stdout",
     "output_type": "stream",
     "text": [
      "inference :  tensor(3)\n"
     ]
    }
   ],
   "source": [
    "import os\n",
    "#save_model(model, \"mnist-model.pt\")\n",
    "model = load_model(\"mnist-model.pt\")\n",
    "\n",
    "sample = train_data[30]\n",
    "print('shape:', sample[0].shape)\n",
    "print('label:', sample[1])\n",
    "\n",
    "plt.imshow(sample[0][0])\n",
    "plt.show()\n",
    "\n",
    "inference_model_mnist_img(model, sample[0])\n",
    "#inference_model(model,\"/Users/ruby/Documents/MLopsproject/mlops-project-study/2022-05-30/homework/mnist_infer\")\n",
    "\n",
    "#del model\n",
    "#del optimizer\n",
    "#torch.cuda.empty_cache()"
   ]
  },
  {
   "cell_type": "markdown",
   "id": "uezf4X4a5oHD",
   "metadata": {
    "id": "uezf4X4a5oHD"
   },
   "source": [
    "## 예제 2: Linear layer 3개"
   ]
  },
  {
   "cell_type": "code",
   "execution_count": null,
   "id": "hbXnlqCr5uYm",
   "metadata": {
    "id": "hbXnlqCr5uYm"
   },
   "outputs": [],
   "source": [
    "class ModelV2(torch.nn.Module):\n",
    "    def __init__(self):\n",
    "        super(ModelV2, self).__init__()\n",
    "        self.input_size = 28*28\n",
    "        self.hidden_size = 256\n",
    "        self.output_size = 10\n",
    "        self.layers = torch.nn.Sequential(\n",
    "            torch.nn.Linear(self.input_size, self.hidden_size),\n",
    "            torch.nn.Linear(self.hidden_size, self.hidden_size),\n",
    "            torch.nn.Linear(self.hidden_size, self.output_size),\n",
    "        )\n",
    "\n",
    "    def forward(self, x):\n",
    "        x = x.view(-1, self.input_size)\n",
    "        for idx, layer in enumerate(self.layers):\n",
    "            x = layer(x)\n",
    "            x = F.relu(x) if idx != len(self.layers)-1 else x\n",
    "        output = F.log_softmax(x, dim=1)\n",
    "        return output\n",
    "\n",
    "print(\"loading ModelV2...\") \n",
    "model = ModelV2().to(device)\n",
    "optimizer = torch.optim.SGD(model.parameters(), lr=lr)\n",
    "fn_loss = F.nll_loss\n",
    "print(\"loaded ModelV2 to {}\".format(device))\n",
    "print(model)\n",
    "print('Number of model parameters: ', sum(param.numel() for param in model.parameters()))\n",
    "print(\"device:\", device)\n",
    "print(\"lr:\", lr)\n",
    "print(\"n_epochs:\", n_epochs)\n",
    "print(\"batch_size:\", batch_size)\n",
    "\n",
    "t = time.perf_counter()\n",
    "train_model(model, device, train_loader, optimizer, n_epochs, fn_loss, log_interval=60000)\n",
    "test_model(model, device, test_loader, fn_loss)\n",
    "print(\"Train/Eval done. elapsed: {} sec\".format(time.perf_counter() - t))\n",
    "\n",
    "del model\n",
    "del optimizer\n",
    "torch.cuda.empty_cache()"
   ]
  },
  {
   "cell_type": "markdown",
   "id": "Vu9CjxFr-Fqf",
   "metadata": {
    "id": "Vu9CjxFr-Fqf"
   },
   "source": [
    "## 예제 3: CNN, linear, 각종 함수 마음껏"
   ]
  },
  {
   "cell_type": "code",
   "execution_count": 58,
   "id": "qT8Vx9Wq-etV",
   "metadata": {
    "id": "qT8Vx9Wq-etV"
   },
   "outputs": [
    {
     "name": "stdout",
     "output_type": "stream",
     "text": [
      "loading ModelV3...\n",
      "loaded ModelV3 to cpu\n",
      "ModelV3(\n",
      "  (conv1): Conv2d(1, 32, kernel_size=(3, 3), stride=(1, 1))\n",
      "  (conv2): Conv2d(32, 64, kernel_size=(3, 3), stride=(1, 1))\n",
      "  (dropout1): Dropout(p=0.25, inplace=False)\n",
      "  (dropout2): Dropout(p=0.5, inplace=False)\n",
      "  (fc1): Linear(in_features=9216, out_features=128, bias=True)\n",
      "  (fc2): Linear(in_features=128, out_features=10, bias=True)\n",
      ")\n",
      "Number of model parameters:  1199882\n",
      "device: cpu\n",
      "lr: 0.01\n",
      "n_epochs: 10\n",
      "batch_size: 512\n",
      "Train Epoch: 1 [0/60000 (0%)]\tLoss: 2.312362\n",
      "Train Epoch: 2 [0/60000 (0%)]\tLoss: 0.716779\n",
      "Train Epoch: 3 [0/60000 (0%)]\tLoss: 0.459728\n",
      "Train Epoch: 4 [0/60000 (0%)]\tLoss: 0.450340\n",
      "Train Epoch: 5 [0/60000 (0%)]\tLoss: 0.466849\n",
      "Train Epoch: 6 [0/60000 (0%)]\tLoss: 0.281418\n",
      "Train Epoch: 7 [0/60000 (0%)]\tLoss: 0.301595\n",
      "Train Epoch: 8 [0/60000 (0%)]\tLoss: 0.302102\n",
      "Train Epoch: 9 [0/60000 (0%)]\tLoss: 0.224618\n",
      "Train Epoch: 10 [0/60000 (0%)]\tLoss: 0.338653\n",
      "\n",
      "Test set: Average loss: 0.1525, Accuracy: 9549/10000 (95%)\n",
      "\n",
      "None\n"
     ]
    },
    {
     "ename": "TypeError",
     "evalue": "expected np.ndarray (got NoneType)",
     "output_type": "error",
     "traceback": [
      "\u001b[0;31m---------------------------------------------------------------------------\u001b[0m",
      "\u001b[0;31mTypeError\u001b[0m                                 Traceback (most recent call last)",
      "\u001b[0;32m<ipython-input-58-33b948979b3a>\u001b[0m in \u001b[0;36m<module>\u001b[0;34m\u001b[0m\n\u001b[1;32m     42\u001b[0m \u001b[0msave_model\u001b[0m\u001b[0;34m(\u001b[0m\u001b[0mmodel\u001b[0m\u001b[0;34m,\u001b[0m \u001b[0;34m\"mnist-model3.pt\"\u001b[0m\u001b[0;34m)\u001b[0m\u001b[0;34m\u001b[0m\u001b[0;34m\u001b[0m\u001b[0m\n\u001b[1;32m     43\u001b[0m \u001b[0mmodel\u001b[0m \u001b[0;34m=\u001b[0m \u001b[0mload_model\u001b[0m\u001b[0;34m(\u001b[0m\u001b[0;34m\"mnist-model3.pt\"\u001b[0m\u001b[0;34m)\u001b[0m\u001b[0;34m\u001b[0m\u001b[0;34m\u001b[0m\u001b[0m\n\u001b[0;32m---> 44\u001b[0;31m \u001b[0minference_model\u001b[0m\u001b[0;34m(\u001b[0m\u001b[0mmodel\u001b[0m\u001b[0;34m,\u001b[0m\u001b[0;34m\"/Users/ruby/Documents/MLopsproject/mlops-project-study/2022-05-30/homework/mnist_infer\"\u001b[0m\u001b[0;34m)\u001b[0m\u001b[0;34m\u001b[0m\u001b[0;34m\u001b[0m\u001b[0m\n\u001b[0m\u001b[1;32m     45\u001b[0m \u001b[0mprint\u001b[0m\u001b[0;34m(\u001b[0m\u001b[0;34m\"Train/Eval done. elapsed: {} sec\"\u001b[0m\u001b[0;34m.\u001b[0m\u001b[0mformat\u001b[0m\u001b[0;34m(\u001b[0m\u001b[0mtime\u001b[0m\u001b[0;34m.\u001b[0m\u001b[0mperf_counter\u001b[0m\u001b[0;34m(\u001b[0m\u001b[0;34m)\u001b[0m \u001b[0;34m-\u001b[0m \u001b[0mt\u001b[0m\u001b[0;34m)\u001b[0m\u001b[0;34m)\u001b[0m\u001b[0;34m\u001b[0m\u001b[0;34m\u001b[0m\u001b[0m\n\u001b[1;32m     46\u001b[0m \u001b[0;34m\u001b[0m\u001b[0m\n",
      "\u001b[0;32m<ipython-input-55-1ef0160301e2>\u001b[0m in \u001b[0;36minference_model\u001b[0;34m(model, infer_img_dir)\u001b[0m\n\u001b[1;32m     35\u001b[0m         \u001b[0mimg_path\u001b[0m \u001b[0;34m=\u001b[0m \u001b[0mos\u001b[0m\u001b[0;34m.\u001b[0m\u001b[0mpath\u001b[0m\u001b[0;34m.\u001b[0m\u001b[0mjoin\u001b[0m\u001b[0;34m(\u001b[0m\u001b[0minfer_img_dir\u001b[0m\u001b[0;34m,\u001b[0m \u001b[0mimg\u001b[0m\u001b[0;34m.\u001b[0m\u001b[0mname\u001b[0m\u001b[0;34m)\u001b[0m\u001b[0;34m\u001b[0m\u001b[0;34m\u001b[0m\u001b[0m\n\u001b[1;32m     36\u001b[0m \u001b[0;34m\u001b[0m\u001b[0m\n\u001b[0;32m---> 37\u001b[0;31m     \u001b[0mpred\u001b[0m\u001b[0;34m,\u001b[0m \u001b[0mlabel_idx\u001b[0m \u001b[0;34m=\u001b[0m \u001b[0mclassification_img\u001b[0m\u001b[0;34m(\u001b[0m\u001b[0mimg_path\u001b[0m\u001b[0;34m,\u001b[0m \u001b[0mmodel\u001b[0m\u001b[0;34m)\u001b[0m\u001b[0;34m\u001b[0m\u001b[0;34m\u001b[0m\u001b[0m\n\u001b[0m\u001b[1;32m     38\u001b[0m \u001b[0;34m\u001b[0m\u001b[0m\n\u001b[1;32m     39\u001b[0m     \u001b[0mlabel_name\u001b[0m \u001b[0;34m=\u001b[0m \u001b[0mlabel_map\u001b[0m\u001b[0;34m[\u001b[0m\u001b[0mlabel_idx\u001b[0m\u001b[0;34m]\u001b[0m\u001b[0;34m\u001b[0m\u001b[0;34m\u001b[0m\u001b[0m\n",
      "\u001b[0;32m<ipython-input-55-1ef0160301e2>\u001b[0m in \u001b[0;36mclassification_img\u001b[0;34m(img_path, model)\u001b[0m\n\u001b[1;32m     17\u001b[0m     \u001b[0mprint\u001b[0m\u001b[0;34m(\u001b[0m\u001b[0mimg\u001b[0m\u001b[0;34m)\u001b[0m\u001b[0;34m\u001b[0m\u001b[0;34m\u001b[0m\u001b[0m\n\u001b[1;32m     18\u001b[0m     \u001b[0;31m#img = cv2.cvtColor(img, cv2.COLOR_BGR2RGB) # opencv는 BGR순서로 read한다.\u001b[0m\u001b[0;34m\u001b[0m\u001b[0;34m\u001b[0m\u001b[0;34m\u001b[0m\u001b[0m\n\u001b[0;32m---> 19\u001b[0;31m     \u001b[0mimg\u001b[0m \u001b[0;34m=\u001b[0m \u001b[0mtorch\u001b[0m\u001b[0;34m.\u001b[0m\u001b[0mfrom_numpy\u001b[0m\u001b[0;34m(\u001b[0m\u001b[0mimg\u001b[0m\u001b[0;34m)\u001b[0m\u001b[0;34m.\u001b[0m\u001b[0mfloat\u001b[0m\u001b[0;34m(\u001b[0m\u001b[0;34m)\u001b[0m\u001b[0;34m\u001b[0m\u001b[0;34m\u001b[0m\u001b[0m\n\u001b[0m\u001b[1;32m     20\u001b[0m     \u001b[0;31m#img = img.permute(2, 0, 1).squeeze(0) # (H, W, C) -> (C, H, W) -> (1, C, H, W)\u001b[0m\u001b[0;34m\u001b[0m\u001b[0;34m\u001b[0m\u001b[0;34m\u001b[0m\u001b[0m\n\u001b[1;32m     21\u001b[0m \u001b[0;34m\u001b[0m\u001b[0m\n",
      "\u001b[0;31mTypeError\u001b[0m: expected np.ndarray (got NoneType)"
     ]
    }
   ],
   "source": [
    "class ModelV3(torch.nn.Module):\n",
    "    def __init__(self):\n",
    "        super(ModelV3, self).__init__()\n",
    "        self.conv1 = torch.nn.Conv2d(1, 32, 3, 1)\n",
    "        self.conv2 = torch.nn.Conv2d(32, 64, 3, 1)\n",
    "        self.dropout1 = torch.nn.Dropout(0.25)\n",
    "        self.dropout2 = torch.nn.Dropout(0.5)\n",
    "        self.fc1 = torch.nn.Linear(9216, 128)\n",
    "        self.fc2 = torch.nn.Linear(128, 10)\n",
    "\n",
    "    def forward(self, x):\n",
    "        x = self.conv1(x)\n",
    "        x = F.relu(x)\n",
    "        x = self.conv2(x)\n",
    "        x = F.relu(x)\n",
    "        x = F.max_pool2d(x, 2)\n",
    "        x = self.dropout1(x)\n",
    "        x = torch.flatten(x, 1)\n",
    "        x = self.fc1(x)\n",
    "        x = F.relu(x)\n",
    "        x = self.dropout2(x)\n",
    "        x = self.fc2(x)\n",
    "        output = F.log_softmax(x, dim=1)\n",
    "        return output\n",
    "\n",
    "print(\"loading ModelV3...\") \n",
    "model = ModelV3().to(device)\n",
    "optimizer = torch.optim.SGD(model.parameters(), lr=lr)\n",
    "fn_loss = F.nll_loss\n",
    "print(\"loaded ModelV3 to {}\".format(device))\n",
    "print(model)\n",
    "print('Number of model parameters: ', sum(param.numel() for param in model.parameters()))\n",
    "print(\"device:\", device)\n",
    "print(\"lr:\", lr)\n",
    "print(\"n_epochs:\", n_epochs)\n",
    "print(\"batch_size:\", batch_size)\n",
    "\n",
    "t = time.perf_counter()\n",
    "train_model(model, device, train_loader, optimizer, n_epochs, fn_loss, log_interval=60000)\n",
    "test_model(model, device, test_loader, fn_loss)\n",
    "\n",
    "#save_model(model, \"mnist-model3.pt\")\n",
    "#model = load_model(\"mnist-model3.pt\")\n",
    "#inference_model(model,\"/Users/ruby/Documents/MLopsproject/mlops-project-study/2022-05-30/homework/mnist_infer\")\n",
    "#print(\"Train/Eval done. elapsed: {} sec\".format(time.perf_counter() - t))\n",
    "\n",
    "#del model\n",
    "#del optimizer\n",
    "torch.cuda.empty_cache()"
   ]
  },
  {
   "cell_type": "markdown",
   "id": "YcfmyubEH1CO",
   "metadata": {
    "id": "YcfmyubEH1CO"
   },
   "source": [
    "## 예제 4: ModelV3의 optimizer를 Adam으로 교체, LR decaying 적용"
   ]
  },
  {
   "cell_type": "code",
   "execution_count": null,
   "id": "_wOObXD0I9ol",
   "metadata": {
    "id": "_wOObXD0I9ol"
   },
   "outputs": [],
   "source": [
    "from torch.optim.lr_scheduler import StepLR\n",
    "\n",
    "def train_model_scheduler(model, device, train_loader, optimizer, n_epochs, fn_loss,\n",
    "                          scheduler, log_interval=10000):\n",
    "    model.train()\n",
    "    for epoch in range(1, n_epochs + 1):\n",
    "        for batch_idx, (data, target) in enumerate(train_loader):\n",
    "            data = data.to(device)\n",
    "            target = target.to(device)\n",
    "            optimizer.zero_grad()\n",
    "            output = model(data)\n",
    "            loss = fn_loss(output, target)\n",
    "            loss.backward()\n",
    "            optimizer.step()\n",
    "            if batch_idx % (log_interval // len(data)) == 0:\n",
    "                print('Train Epoch: {} [{}/{} ({:.0f}%)]\\tLoss: {:.6f}'.format(\n",
    "                      epoch, batch_idx * len(data), len(train_loader.dataset),\n",
    "                      100. * batch_idx / len(train_loader), loss.item()))\n",
    "        scheduler.step()\n",
    "\n",
    "\n",
    "print(\"loading ModelV3...\") \n",
    "model = ModelV3().to(device)\n",
    "optimizer = torch.optim.Adam(model.parameters(), lr=lr)\n",
    "fn_loss = F.nll_loss\n",
    "\n",
    "print(\"loaded ModelV3 to {}\".format(device))\n",
    "print(model)\n",
    "print('Number of model parameters: ', sum(param.numel() for param in model.parameters()))\n",
    "print(\"device:\", device)\n",
    "print(\"lr:\", lr)\n",
    "print(\"n_epochs:\", n_epochs)\n",
    "print(\"batch_size:\", batch_size)\n",
    "\n",
    "scheduler = StepLR(optimizer, step_size=1, gamma=0.7)\n",
    "\n",
    "t = time.perf_counter()\n",
    "train_model_scheduler(model, device, train_loader, optimizer, n_epochs, fn_loss, scheduler, log_interval=60000)\n",
    "test_model(model, device, test_loader, fn_loss)\n",
    "print(\"Train/Eval done. elapsed: {} sec\".format(time.perf_counter() - t))\n",
    "\n",
    "del model\n",
    "del optimizer\n",
    "torch.cuda.empty_cache()"
   ]
  },
  {
   "cell_type": "markdown",
   "id": "biViwCiVs87B",
   "metadata": {
    "id": "biViwCiVs87B"
   },
   "source": [
    "## 예제 5: 훈련 완료된 빅 모델 가져와서 전이 학습(transfer learning)\n",
    "원래 ImageNet이라는 훨씬 큰 classification dataset에 맞춰서 훈련이 완료된 모델을 가져와서 MNIST 맞춤형으로 전이 학습을 시도\n",
    "\n"
   ]
  },
  {
   "cell_type": "code",
   "execution_count": null,
   "id": "auNo8-GCtfq9",
   "metadata": {
    "colab": {
     "base_uri": "https://localhost:8080/"
    },
    "id": "auNo8-GCtfq9",
    "outputId": "03ca19dc-24d2-4668-a7c0-d54cf2873065"
   },
   "outputs": [
    {
     "name": "stdout",
     "output_type": "stream",
     "text": [
      "loading MNISTBigModel...\n",
      "loaded MNISTBigModel to cuda\n",
      "MNISTBigModel(\n",
      "  (model): ResNet(\n",
      "    (conv1): Conv2d(1, 64, kernel_size=(7, 7), stride=(2, 2), padding=(3, 3), bias=False)\n",
      "    (bn1): BatchNorm2d(64, eps=1e-05, momentum=0.1, affine=True, track_running_stats=True)\n",
      "    (relu): ReLU(inplace=True)\n",
      "    (maxpool): MaxPool2d(kernel_size=3, stride=2, padding=1, dilation=1, ceil_mode=False)\n",
      "    (layer1): Sequential(\n",
      "      (0): Bottleneck(\n",
      "        (conv1): Conv2d(64, 64, kernel_size=(1, 1), stride=(1, 1), bias=False)\n",
      "        (bn1): BatchNorm2d(64, eps=1e-05, momentum=0.1, affine=True, track_running_stats=True)\n",
      "        (conv2): Conv2d(64, 64, kernel_size=(3, 3), stride=(1, 1), padding=(1, 1), bias=False)\n",
      "        (bn2): BatchNorm2d(64, eps=1e-05, momentum=0.1, affine=True, track_running_stats=True)\n",
      "        (conv3): Conv2d(64, 256, kernel_size=(1, 1), stride=(1, 1), bias=False)\n",
      "        (bn3): BatchNorm2d(256, eps=1e-05, momentum=0.1, affine=True, track_running_stats=True)\n",
      "        (relu): ReLU(inplace=True)\n",
      "        (downsample): Sequential(\n",
      "          (0): Conv2d(64, 256, kernel_size=(1, 1), stride=(1, 1), bias=False)\n",
      "          (1): BatchNorm2d(256, eps=1e-05, momentum=0.1, affine=True, track_running_stats=True)\n",
      "        )\n",
      "      )\n",
      "      (1): Bottleneck(\n",
      "        (conv1): Conv2d(256, 64, kernel_size=(1, 1), stride=(1, 1), bias=False)\n",
      "        (bn1): BatchNorm2d(64, eps=1e-05, momentum=0.1, affine=True, track_running_stats=True)\n",
      "        (conv2): Conv2d(64, 64, kernel_size=(3, 3), stride=(1, 1), padding=(1, 1), bias=False)\n",
      "        (bn2): BatchNorm2d(64, eps=1e-05, momentum=0.1, affine=True, track_running_stats=True)\n",
      "        (conv3): Conv2d(64, 256, kernel_size=(1, 1), stride=(1, 1), bias=False)\n",
      "        (bn3): BatchNorm2d(256, eps=1e-05, momentum=0.1, affine=True, track_running_stats=True)\n",
      "        (relu): ReLU(inplace=True)\n",
      "      )\n",
      "      (2): Bottleneck(\n",
      "        (conv1): Conv2d(256, 64, kernel_size=(1, 1), stride=(1, 1), bias=False)\n",
      "        (bn1): BatchNorm2d(64, eps=1e-05, momentum=0.1, affine=True, track_running_stats=True)\n",
      "        (conv2): Conv2d(64, 64, kernel_size=(3, 3), stride=(1, 1), padding=(1, 1), bias=False)\n",
      "        (bn2): BatchNorm2d(64, eps=1e-05, momentum=0.1, affine=True, track_running_stats=True)\n",
      "        (conv3): Conv2d(64, 256, kernel_size=(1, 1), stride=(1, 1), bias=False)\n",
      "        (bn3): BatchNorm2d(256, eps=1e-05, momentum=0.1, affine=True, track_running_stats=True)\n",
      "        (relu): ReLU(inplace=True)\n",
      "      )\n",
      "    )\n",
      "    (layer2): Sequential(\n",
      "      (0): Bottleneck(\n",
      "        (conv1): Conv2d(256, 128, kernel_size=(1, 1), stride=(1, 1), bias=False)\n",
      "        (bn1): BatchNorm2d(128, eps=1e-05, momentum=0.1, affine=True, track_running_stats=True)\n",
      "        (conv2): Conv2d(128, 128, kernel_size=(3, 3), stride=(2, 2), padding=(1, 1), bias=False)\n",
      "        (bn2): BatchNorm2d(128, eps=1e-05, momentum=0.1, affine=True, track_running_stats=True)\n",
      "        (conv3): Conv2d(128, 512, kernel_size=(1, 1), stride=(1, 1), bias=False)\n",
      "        (bn3): BatchNorm2d(512, eps=1e-05, momentum=0.1, affine=True, track_running_stats=True)\n",
      "        (relu): ReLU(inplace=True)\n",
      "        (downsample): Sequential(\n",
      "          (0): Conv2d(256, 512, kernel_size=(1, 1), stride=(2, 2), bias=False)\n",
      "          (1): BatchNorm2d(512, eps=1e-05, momentum=0.1, affine=True, track_running_stats=True)\n",
      "        )\n",
      "      )\n",
      "      (1): Bottleneck(\n",
      "        (conv1): Conv2d(512, 128, kernel_size=(1, 1), stride=(1, 1), bias=False)\n",
      "        (bn1): BatchNorm2d(128, eps=1e-05, momentum=0.1, affine=True, track_running_stats=True)\n",
      "        (conv2): Conv2d(128, 128, kernel_size=(3, 3), stride=(1, 1), padding=(1, 1), bias=False)\n",
      "        (bn2): BatchNorm2d(128, eps=1e-05, momentum=0.1, affine=True, track_running_stats=True)\n",
      "        (conv3): Conv2d(128, 512, kernel_size=(1, 1), stride=(1, 1), bias=False)\n",
      "        (bn3): BatchNorm2d(512, eps=1e-05, momentum=0.1, affine=True, track_running_stats=True)\n",
      "        (relu): ReLU(inplace=True)\n",
      "      )\n",
      "      (2): Bottleneck(\n",
      "        (conv1): Conv2d(512, 128, kernel_size=(1, 1), stride=(1, 1), bias=False)\n",
      "        (bn1): BatchNorm2d(128, eps=1e-05, momentum=0.1, affine=True, track_running_stats=True)\n",
      "        (conv2): Conv2d(128, 128, kernel_size=(3, 3), stride=(1, 1), padding=(1, 1), bias=False)\n",
      "        (bn2): BatchNorm2d(128, eps=1e-05, momentum=0.1, affine=True, track_running_stats=True)\n",
      "        (conv3): Conv2d(128, 512, kernel_size=(1, 1), stride=(1, 1), bias=False)\n",
      "        (bn3): BatchNorm2d(512, eps=1e-05, momentum=0.1, affine=True, track_running_stats=True)\n",
      "        (relu): ReLU(inplace=True)\n",
      "      )\n",
      "      (3): Bottleneck(\n",
      "        (conv1): Conv2d(512, 128, kernel_size=(1, 1), stride=(1, 1), bias=False)\n",
      "        (bn1): BatchNorm2d(128, eps=1e-05, momentum=0.1, affine=True, track_running_stats=True)\n",
      "        (conv2): Conv2d(128, 128, kernel_size=(3, 3), stride=(1, 1), padding=(1, 1), bias=False)\n",
      "        (bn2): BatchNorm2d(128, eps=1e-05, momentum=0.1, affine=True, track_running_stats=True)\n",
      "        (conv3): Conv2d(128, 512, kernel_size=(1, 1), stride=(1, 1), bias=False)\n",
      "        (bn3): BatchNorm2d(512, eps=1e-05, momentum=0.1, affine=True, track_running_stats=True)\n",
      "        (relu): ReLU(inplace=True)\n",
      "      )\n",
      "    )\n",
      "    (layer3): Sequential(\n",
      "      (0): Bottleneck(\n",
      "        (conv1): Conv2d(512, 256, kernel_size=(1, 1), stride=(1, 1), bias=False)\n",
      "        (bn1): BatchNorm2d(256, eps=1e-05, momentum=0.1, affine=True, track_running_stats=True)\n",
      "        (conv2): Conv2d(256, 256, kernel_size=(3, 3), stride=(2, 2), padding=(1, 1), bias=False)\n",
      "        (bn2): BatchNorm2d(256, eps=1e-05, momentum=0.1, affine=True, track_running_stats=True)\n",
      "        (conv3): Conv2d(256, 1024, kernel_size=(1, 1), stride=(1, 1), bias=False)\n",
      "        (bn3): BatchNorm2d(1024, eps=1e-05, momentum=0.1, affine=True, track_running_stats=True)\n",
      "        (relu): ReLU(inplace=True)\n",
      "        (downsample): Sequential(\n",
      "          (0): Conv2d(512, 1024, kernel_size=(1, 1), stride=(2, 2), bias=False)\n",
      "          (1): BatchNorm2d(1024, eps=1e-05, momentum=0.1, affine=True, track_running_stats=True)\n",
      "        )\n",
      "      )\n",
      "      (1): Bottleneck(\n",
      "        (conv1): Conv2d(1024, 256, kernel_size=(1, 1), stride=(1, 1), bias=False)\n",
      "        (bn1): BatchNorm2d(256, eps=1e-05, momentum=0.1, affine=True, track_running_stats=True)\n",
      "        (conv2): Conv2d(256, 256, kernel_size=(3, 3), stride=(1, 1), padding=(1, 1), bias=False)\n",
      "        (bn2): BatchNorm2d(256, eps=1e-05, momentum=0.1, affine=True, track_running_stats=True)\n",
      "        (conv3): Conv2d(256, 1024, kernel_size=(1, 1), stride=(1, 1), bias=False)\n",
      "        (bn3): BatchNorm2d(1024, eps=1e-05, momentum=0.1, affine=True, track_running_stats=True)\n",
      "        (relu): ReLU(inplace=True)\n",
      "      )\n",
      "      (2): Bottleneck(\n",
      "        (conv1): Conv2d(1024, 256, kernel_size=(1, 1), stride=(1, 1), bias=False)\n",
      "        (bn1): BatchNorm2d(256, eps=1e-05, momentum=0.1, affine=True, track_running_stats=True)\n",
      "        (conv2): Conv2d(256, 256, kernel_size=(3, 3), stride=(1, 1), padding=(1, 1), bias=False)\n",
      "        (bn2): BatchNorm2d(256, eps=1e-05, momentum=0.1, affine=True, track_running_stats=True)\n",
      "        (conv3): Conv2d(256, 1024, kernel_size=(1, 1), stride=(1, 1), bias=False)\n",
      "        (bn3): BatchNorm2d(1024, eps=1e-05, momentum=0.1, affine=True, track_running_stats=True)\n",
      "        (relu): ReLU(inplace=True)\n",
      "      )\n",
      "      (3): Bottleneck(\n",
      "        (conv1): Conv2d(1024, 256, kernel_size=(1, 1), stride=(1, 1), bias=False)\n",
      "        (bn1): BatchNorm2d(256, eps=1e-05, momentum=0.1, affine=True, track_running_stats=True)\n",
      "        (conv2): Conv2d(256, 256, kernel_size=(3, 3), stride=(1, 1), padding=(1, 1), bias=False)\n",
      "        (bn2): BatchNorm2d(256, eps=1e-05, momentum=0.1, affine=True, track_running_stats=True)\n",
      "        (conv3): Conv2d(256, 1024, kernel_size=(1, 1), stride=(1, 1), bias=False)\n",
      "        (bn3): BatchNorm2d(1024, eps=1e-05, momentum=0.1, affine=True, track_running_stats=True)\n",
      "        (relu): ReLU(inplace=True)\n",
      "      )\n",
      "      (4): Bottleneck(\n",
      "        (conv1): Conv2d(1024, 256, kernel_size=(1, 1), stride=(1, 1), bias=False)\n",
      "        (bn1): BatchNorm2d(256, eps=1e-05, momentum=0.1, affine=True, track_running_stats=True)\n",
      "        (conv2): Conv2d(256, 256, kernel_size=(3, 3), stride=(1, 1), padding=(1, 1), bias=False)\n",
      "        (bn2): BatchNorm2d(256, eps=1e-05, momentum=0.1, affine=True, track_running_stats=True)\n",
      "        (conv3): Conv2d(256, 1024, kernel_size=(1, 1), stride=(1, 1), bias=False)\n",
      "        (bn3): BatchNorm2d(1024, eps=1e-05, momentum=0.1, affine=True, track_running_stats=True)\n",
      "        (relu): ReLU(inplace=True)\n",
      "      )\n",
      "      (5): Bottleneck(\n",
      "        (conv1): Conv2d(1024, 256, kernel_size=(1, 1), stride=(1, 1), bias=False)\n",
      "        (bn1): BatchNorm2d(256, eps=1e-05, momentum=0.1, affine=True, track_running_stats=True)\n",
      "        (conv2): Conv2d(256, 256, kernel_size=(3, 3), stride=(1, 1), padding=(1, 1), bias=False)\n",
      "        (bn2): BatchNorm2d(256, eps=1e-05, momentum=0.1, affine=True, track_running_stats=True)\n",
      "        (conv3): Conv2d(256, 1024, kernel_size=(1, 1), stride=(1, 1), bias=False)\n",
      "        (bn3): BatchNorm2d(1024, eps=1e-05, momentum=0.1, affine=True, track_running_stats=True)\n",
      "        (relu): ReLU(inplace=True)\n",
      "      )\n",
      "    )\n",
      "    (layer4): Sequential(\n",
      "      (0): Bottleneck(\n",
      "        (conv1): Conv2d(1024, 512, kernel_size=(1, 1), stride=(1, 1), bias=False)\n",
      "        (bn1): BatchNorm2d(512, eps=1e-05, momentum=0.1, affine=True, track_running_stats=True)\n",
      "        (conv2): Conv2d(512, 512, kernel_size=(3, 3), stride=(2, 2), padding=(1, 1), bias=False)\n",
      "        (bn2): BatchNorm2d(512, eps=1e-05, momentum=0.1, affine=True, track_running_stats=True)\n",
      "        (conv3): Conv2d(512, 2048, kernel_size=(1, 1), stride=(1, 1), bias=False)\n",
      "        (bn3): BatchNorm2d(2048, eps=1e-05, momentum=0.1, affine=True, track_running_stats=True)\n",
      "        (relu): ReLU(inplace=True)\n",
      "        (downsample): Sequential(\n",
      "          (0): Conv2d(1024, 2048, kernel_size=(1, 1), stride=(2, 2), bias=False)\n",
      "          (1): BatchNorm2d(2048, eps=1e-05, momentum=0.1, affine=True, track_running_stats=True)\n",
      "        )\n",
      "      )\n",
      "      (1): Bottleneck(\n",
      "        (conv1): Conv2d(2048, 512, kernel_size=(1, 1), stride=(1, 1), bias=False)\n",
      "        (bn1): BatchNorm2d(512, eps=1e-05, momentum=0.1, affine=True, track_running_stats=True)\n",
      "        (conv2): Conv2d(512, 512, kernel_size=(3, 3), stride=(1, 1), padding=(1, 1), bias=False)\n",
      "        (bn2): BatchNorm2d(512, eps=1e-05, momentum=0.1, affine=True, track_running_stats=True)\n",
      "        (conv3): Conv2d(512, 2048, kernel_size=(1, 1), stride=(1, 1), bias=False)\n",
      "        (bn3): BatchNorm2d(2048, eps=1e-05, momentum=0.1, affine=True, track_running_stats=True)\n",
      "        (relu): ReLU(inplace=True)\n",
      "      )\n",
      "      (2): Bottleneck(\n",
      "        (conv1): Conv2d(2048, 512, kernel_size=(1, 1), stride=(1, 1), bias=False)\n",
      "        (bn1): BatchNorm2d(512, eps=1e-05, momentum=0.1, affine=True, track_running_stats=True)\n",
      "        (conv2): Conv2d(512, 512, kernel_size=(3, 3), stride=(1, 1), padding=(1, 1), bias=False)\n",
      "        (bn2): BatchNorm2d(512, eps=1e-05, momentum=0.1, affine=True, track_running_stats=True)\n",
      "        (conv3): Conv2d(512, 2048, kernel_size=(1, 1), stride=(1, 1), bias=False)\n",
      "        (bn3): BatchNorm2d(2048, eps=1e-05, momentum=0.1, affine=True, track_running_stats=True)\n",
      "        (relu): ReLU(inplace=True)\n",
      "      )\n",
      "    )\n",
      "    (avgpool): AdaptiveAvgPool2d(output_size=(1, 1))\n",
      "    (fc): Linear(in_features=2048, out_features=10, bias=True)\n",
      "  )\n",
      ")\n",
      "Number of model parameters:  23522250\n",
      "device: cuda\n",
      "lr: 3e-06\n",
      "n_epochs: 3\n",
      "batch_size: 64\n",
      "Train Epoch: 1 [0/60000 (0%)]\tLoss: 2.468372\n",
      "Train Epoch: 1 [9984/60000 (17%)]\tLoss: 1.174733\n",
      "Train Epoch: 1 [19968/60000 (33%)]\tLoss: 0.392050\n",
      "Train Epoch: 1 [29952/60000 (50%)]\tLoss: 0.228549\n",
      "Train Epoch: 1 [39936/60000 (67%)]\tLoss: 0.134468\n",
      "Train Epoch: 1 [49920/60000 (83%)]\tLoss: 0.095007\n",
      "Train Epoch: 1 [59904/60000 (100%)]\tLoss: 0.112732\n",
      "Train Epoch: 2 [0/60000 (0%)]\tLoss: 0.083218\n",
      "Train Epoch: 2 [9984/60000 (17%)]\tLoss: 0.064563\n",
      "Train Epoch: 2 [19968/60000 (33%)]\tLoss: 0.072744\n",
      "Train Epoch: 2 [29952/60000 (50%)]\tLoss: 0.051085\n",
      "Train Epoch: 2 [39936/60000 (67%)]\tLoss: 0.021912\n",
      "Train Epoch: 2 [49920/60000 (83%)]\tLoss: 0.021106\n",
      "Train Epoch: 2 [59904/60000 (100%)]\tLoss: 0.038463\n",
      "Train Epoch: 3 [0/60000 (0%)]\tLoss: 0.023147\n",
      "Train Epoch: 3 [9984/60000 (17%)]\tLoss: 0.051638\n",
      "Train Epoch: 3 [19968/60000 (33%)]\tLoss: 0.030683\n",
      "Train Epoch: 3 [29952/60000 (50%)]\tLoss: 0.020306\n",
      "Train Epoch: 3 [39936/60000 (67%)]\tLoss: 0.079340\n",
      "Train Epoch: 3 [49920/60000 (83%)]\tLoss: 0.060572\n",
      "Train Epoch: 3 [59904/60000 (100%)]\tLoss: 0.006040\n",
      "\n",
      "Test set: Average loss: 0.0283, Accuracy: 9926/10000 (99%)\n",
      "\n",
      "Train/Eval done. elapsed: 2128.349693376 sec\n"
     ]
    }
   ],
   "source": [
    "# ref: https://ingu627.github.io/code/ResNet50_pytorch/\n",
    "class MNISTBigModel(torch.nn.Module): # MnistResNet은 nn.Module 상속\n",
    "    def __init__(self, in_channels=1):\n",
    "        super(MNISTBigModel, self).__init__()\n",
    "\n",
    "        # torchvision.models에서 사전훈련된 resnet 모델 가져오기\n",
    "        self.model = torchvision.models.resnet50(pretrained=True)\n",
    "\n",
    "        # 기본 채널이 3(RGB)이기 때문에 fashion_mnist에 맞게 1(grayscale image)로 바꿔준다.  \n",
    "        # 원래 ResNet의 첫번째 층\n",
    "        # self.conv1 = nn.Conv2d(3, 64, kernel_size=7, stride=2, padding=3, bias=False)\n",
    "        self.model.conv1 = torch.nn.Conv2d(in_channels, 64, kernel_size=7, stride=2, padding=3, bias=False)\n",
    "    \n",
    "        # 1000개 클래스 대신 10개 클래스로 바꿔주기\n",
    "        num_ftrs = self.model.fc.in_features\n",
    "        #  nn.Linear(in_features, out_features ...)\n",
    "        self.model.fc = torch.nn.Linear(num_ftrs, 10)\n",
    "        #num_ftrs = self.model.fc.out_features\n",
    "        #self.projection_layer = torch.nn.Linear(num_ftrs, 10)\n",
    "\n",
    "    def forward(self, x): # 모델에 있는 foward 함수 그대로 가져오기\n",
    "        #with torch.no_grad():\n",
    "        x = self.model(x)\n",
    "        #x = self.projection_layer(x)\n",
    "        output = F.log_softmax(x, dim=1)\n",
    "        return output\n",
    "\n",
    "lr = 3e-6\n",
    "n_epochs = 3\n",
    "batch_size = 64\n",
    "\n",
    "# MNIST 그림의 크기를 ImageNet 데이터와 맞추기 위해 데이터셋을 다시 로드\n",
    "transform = torchvision.transforms.Compose([\n",
    "                torchvision.transforms.Resize((224, 224)),\n",
    "                torchvision.transforms.ToTensor(),\n",
    "                torchvision.transforms.Normalize((0.1307,), (0.3081,)) # MNIST 데이터셋의 평균과 표준편차\n",
    "            ])\n",
    "train_data = torchvision.datasets.MNIST('./mnist_dataset', train=True, download=True,\n",
    "                            transform=transform)\n",
    "test_data = torchvision.datasets.MNIST('./mnist_dataset', train=False, download=True,\n",
    "                            transform=transform)\n",
    "train_loader = torch.utils.data.DataLoader(dataset=train_data,\n",
    "                                           batch_size=batch_size,\n",
    "                                           shuffle=True)\n",
    "test_loader = torch.utils.data.DataLoader(dataset=test_data,\n",
    "                                          batch_size=10,\n",
    "                                          shuffle=True)\n",
    "\n",
    "print(\"loading MNISTBigModel...\") \n",
    "model = MNISTBigModel().to(device)\n",
    "optimizer = torch.optim.Adam(model.parameters(), lr=lr)\n",
    "fn_loss = F.nll_loss\n",
    "\n",
    "print(\"loaded MNISTBigModel to {}\".format(device))\n",
    "print(model)\n",
    "print('Number of model parameters: ', sum(param.numel() for param in model.parameters()))\n",
    "print(\"device:\", device)\n",
    "print(\"lr:\", lr)\n",
    "print(\"n_epochs:\", n_epochs)\n",
    "print(\"batch_size:\", batch_size)\n",
    "\n",
    "scheduler = StepLR(optimizer, step_size=1, gamma=0.7)\n",
    "\n",
    "t = time.perf_counter()\n",
    "train_model_scheduler(model, device, train_loader, optimizer, n_epochs, fn_loss, scheduler, log_interval=10000)\n",
    "test_model(model, device, test_loader, fn_loss)\n",
    "print(\"Train/Eval done. elapsed: {} sec\".format(time.perf_counter() - t))\n",
    "\n",
    "del model\n",
    "del optimizer\n",
    "torch.cuda.empty_cache()"
   ]
  }
 ],
 "metadata": {
  "accelerator": "GPU",
  "colab": {
   "collapsed_sections": [],
   "name": "training_remind_seminar.ipynb",
   "provenance": []
  },
  "kernelspec": {
   "display_name": "Python 3",
   "language": "python",
   "name": "python3"
  },
  "language_info": {
   "codemirror_mode": {
    "name": "ipython",
    "version": 3
   },
   "file_extension": ".py",
   "mimetype": "text/x-python",
   "name": "python",
   "nbconvert_exporter": "python",
   "pygments_lexer": "ipython3",
   "version": "3.8.8"
  }
 },
 "nbformat": 4,
 "nbformat_minor": 5
}
