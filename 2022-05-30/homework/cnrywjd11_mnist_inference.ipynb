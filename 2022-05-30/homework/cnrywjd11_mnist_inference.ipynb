{
  "cells": [
    {
      "cell_type": "markdown",
      "id": "view-in-github",
      "metadata": {
        "id": "view-in-github",
        "colab_type": "text"
      },
      "source": [
        "[![Open In Colab](https://colab.research.google.com/assets/colab-badge.svg)](https://colab.research.google.com/github/mlnoobs/mlops-project-study/blob/main/2022-05-30/homework/cnrywjd11_mnist_inference.ipynb)\n",
        "\n",
        "# 딥러닝 remind 세미나 1 - 숙제: mnist inference 해보기\n",
        "anthony.go\n",
        "\n",
        "- 훈련된 모델 로드를 위해 아래 taylor의 노트북을 참고했습니다.\n",
        "  - https://github.com/mlnoobs/mlops-project-study/blob/main/2022-05-30/training_remind_seminar.ipynb\n",
        "- 훈련부터 인퍼런스 결과 확인까지 할 수 있도록 제작했습니다."
      ]
    },
    {
      "cell_type": "markdown",
      "source": [
        "## 필요 툴&라이브러리 설치"
      ],
      "metadata": {
        "id": "_ck6yHmNfb7F"
      },
      "id": "_ck6yHmNfb7F"
    },
    {
      "cell_type": "code",
      "source": [
        "!pip install --upgrade pip\n",
        "!pip install torch\n",
        "!pip install torchvision\n",
        "!pip install numpy\n",
        "!pip install matplotlib\n"
      ],
      "metadata": {
        "id": "kPHKc8y7fqMk",
        "colab": {
          "base_uri": "https://localhost:8080/"
        },
        "outputId": "832d366f-f84d-4892-c231-936655b3e66d"
      },
      "id": "kPHKc8y7fqMk",
      "execution_count": 1,
      "outputs": [
        {
          "output_type": "stream",
          "name": "stdout",
          "text": [
            "Looking in indexes: https://pypi.org/simple, https://us-python.pkg.dev/colab-wheels/public/simple/\n",
            "Requirement already satisfied: pip in /usr/local/lib/python3.7/dist-packages (21.1.3)\n",
            "Collecting pip\n",
            "  Downloading pip-22.1.2-py3-none-any.whl (2.1 MB)\n",
            "\u001b[K     |████████████████████████████████| 2.1 MB 8.3 MB/s \n",
            "\u001b[?25hInstalling collected packages: pip\n",
            "  Attempting uninstall: pip\n",
            "    Found existing installation: pip 21.1.3\n",
            "    Uninstalling pip-21.1.3:\n",
            "      Successfully uninstalled pip-21.1.3\n",
            "Successfully installed pip-22.1.2\n",
            "Looking in indexes: https://pypi.org/simple, https://us-python.pkg.dev/colab-wheels/public/simple/\n",
            "Requirement already satisfied: torch in /usr/local/lib/python3.7/dist-packages (1.11.0+cu113)\n",
            "Requirement already satisfied: typing-extensions in /usr/local/lib/python3.7/dist-packages (from torch) (4.2.0)\n",
            "\u001b[33mWARNING: Running pip as the 'root' user can result in broken permissions and conflicting behaviour with the system package manager. It is recommended to use a virtual environment instead: https://pip.pypa.io/warnings/venv\u001b[0m\u001b[33m\n",
            "\u001b[0mLooking in indexes: https://pypi.org/simple, https://us-python.pkg.dev/colab-wheels/public/simple/\n",
            "Requirement already satisfied: torchvision in /usr/local/lib/python3.7/dist-packages (0.12.0+cu113)\n",
            "Requirement already satisfied: torch==1.11.0 in /usr/local/lib/python3.7/dist-packages (from torchvision) (1.11.0+cu113)\n",
            "Requirement already satisfied: numpy in /usr/local/lib/python3.7/dist-packages (from torchvision) (1.21.6)\n",
            "Requirement already satisfied: typing-extensions in /usr/local/lib/python3.7/dist-packages (from torchvision) (4.2.0)\n",
            "Requirement already satisfied: pillow!=8.3.*,>=5.3.0 in /usr/local/lib/python3.7/dist-packages (from torchvision) (7.1.2)\n",
            "Requirement already satisfied: requests in /usr/local/lib/python3.7/dist-packages (from torchvision) (2.23.0)\n",
            "Requirement already satisfied: certifi>=2017.4.17 in /usr/local/lib/python3.7/dist-packages (from requests->torchvision) (2022.5.18.1)\n",
            "Requirement already satisfied: chardet<4,>=3.0.2 in /usr/local/lib/python3.7/dist-packages (from requests->torchvision) (3.0.4)\n",
            "Requirement already satisfied: urllib3!=1.25.0,!=1.25.1,<1.26,>=1.21.1 in /usr/local/lib/python3.7/dist-packages (from requests->torchvision) (1.24.3)\n",
            "Requirement already satisfied: idna<3,>=2.5 in /usr/local/lib/python3.7/dist-packages (from requests->torchvision) (2.10)\n",
            "\u001b[33mWARNING: Running pip as the 'root' user can result in broken permissions and conflicting behaviour with the system package manager. It is recommended to use a virtual environment instead: https://pip.pypa.io/warnings/venv\u001b[0m\u001b[33m\n",
            "\u001b[0mLooking in indexes: https://pypi.org/simple, https://us-python.pkg.dev/colab-wheels/public/simple/\n",
            "Requirement already satisfied: numpy in /usr/local/lib/python3.7/dist-packages (1.21.6)\n",
            "\u001b[33mWARNING: Running pip as the 'root' user can result in broken permissions and conflicting behaviour with the system package manager. It is recommended to use a virtual environment instead: https://pip.pypa.io/warnings/venv\u001b[0m\u001b[33m\n",
            "\u001b[0mLooking in indexes: https://pypi.org/simple, https://us-python.pkg.dev/colab-wheels/public/simple/\n",
            "Requirement already satisfied: matplotlib in /usr/local/lib/python3.7/dist-packages (3.2.2)\n",
            "Requirement already satisfied: python-dateutil>=2.1 in /usr/local/lib/python3.7/dist-packages (from matplotlib) (2.8.2)\n",
            "Requirement already satisfied: cycler>=0.10 in /usr/local/lib/python3.7/dist-packages (from matplotlib) (0.11.0)\n",
            "Requirement already satisfied: numpy>=1.11 in /usr/local/lib/python3.7/dist-packages (from matplotlib) (1.21.6)\n",
            "Requirement already satisfied: pyparsing!=2.0.4,!=2.1.2,!=2.1.6,>=2.0.1 in /usr/local/lib/python3.7/dist-packages (from matplotlib) (3.0.9)\n",
            "Requirement already satisfied: kiwisolver>=1.0.1 in /usr/local/lib/python3.7/dist-packages (from matplotlib) (1.4.2)\n",
            "Requirement already satisfied: typing-extensions in /usr/local/lib/python3.7/dist-packages (from kiwisolver>=1.0.1->matplotlib) (4.2.0)\n",
            "Requirement already satisfied: six>=1.5 in /usr/local/lib/python3.7/dist-packages (from python-dateutil>=2.1->matplotlib) (1.15.0)\n",
            "\u001b[33mWARNING: Running pip as the 'root' user can result in broken permissions and conflicting behaviour with the system package manager. It is recommended to use a virtual environment instead: https://pip.pypa.io/warnings/venv\u001b[0m\u001b[33m\n",
            "\u001b[0m"
          ]
        }
      ]
    },
    {
      "cell_type": "markdown",
      "source": [
        "## import"
      ],
      "metadata": {
        "id": "N_XAZJXsgyY5"
      },
      "id": "N_XAZJXsgyY5"
    },
    {
      "cell_type": "code",
      "source": [
        "import torch\n",
        "import torch.nn.functional as F\n",
        "import numpy as np\n",
        "import torchvision\n",
        "from matplotlib import pyplot as plt\n",
        "import time\n"
      ],
      "metadata": {
        "id": "jEIP5rscg3ZD"
      },
      "id": "jEIP5rscg3ZD",
      "execution_count": 2,
      "outputs": []
    },
    {
      "cell_type": "markdown",
      "source": [
        "## Hyperpatemerers 등 configs 세팅"
      ],
      "metadata": {
        "id": "4t53bdHUjmDC"
      },
      "id": "4t53bdHUjmDC"
    },
    {
      "cell_type": "code",
      "source": [
        "# 훈련 결과 재현을 위한 seed값 고정\n",
        "seed = '202205281708'\n",
        "torch.manual_seed(seed)\n",
        "torch.cuda.manual_seed(seed)\n",
        "\n",
        "# Hyperparameters\n",
        "device = 'cuda' if torch.cuda.is_available() else 'cpu'\n",
        "lr = 1e-2\n",
        "n_epochs = 10\n",
        "batch_size = 512"
      ],
      "metadata": {
        "id": "bduUNYwgjtE0"
      },
      "id": "bduUNYwgjtE0",
      "execution_count": 3,
      "outputs": []
    },
    {
      "cell_type": "markdown",
      "source": [
        "## 공개 데이터셋 다운로드: MNIST\n",
        "torchvision 라이브러리를 사용하면 공개 데이터셋을 편리하게 다운로드받고, torch tensor 자료형으로 불러올 수 있습니다."
      ],
      "metadata": {
        "id": "N6HFmHqphvVO"
      },
      "id": "N6HFmHqphvVO"
    },
    {
      "cell_type": "code",
      "source": [
        "# torchvision 라이브러리를 사용해 MNIST 데이터셋 다운로드 및 전처리\n",
        "transform = torchvision.transforms.Compose([\n",
        "                torchvision.transforms.ToTensor(),\n",
        "                torchvision.transforms.Normalize((0.1307,), (0.3081,)) # MNIST 데이터셋의 평균과 표준편차\n",
        "            ])\n",
        "train_data = torchvision.datasets.MNIST('./mnist_dataset', train=True, download=True,\n",
        "                            transform=transform)\n",
        "test_data = torchvision.datasets.MNIST('./mnist_dataset', train=False, download=True,\n",
        "                            transform=transform)\n",
        "print('len(train_data):', len(train_data))\n",
        "print('len(test_data):', len(test_data))\n",
        "\n",
        "# 데이터 정보를 확인해봅시다.\n",
        "sample = train_data[1234]\n",
        "print('shape:', sample[0].shape)   # 28*28 흑백 데이터\n",
        "print('label:', sample[1])\n",
        "print('maxval:', torch.max(sample[0]))\n",
        "print('minval:', torch.min(sample[0]))\n",
        "train_data_without_labels = torch.stack([s[0] for s in train_data])\n",
        "print('mean of all training dataset:', torch.mean(train_data_without_labels))\n",
        "print('var of all training dataset:', torch.var(train_data_without_labels))\n",
        "plt.imshow(sample[0][0])\n",
        "plt.show()\n",
        "\n",
        "# torch의 DataLoader를 사용하면 데이터셋을 준비하는 과정이 편리합니다.\n",
        "train_loader = torch.utils.data.DataLoader(dataset=train_data,\n",
        "                                           batch_size=batch_size,\n",
        "                                           shuffle=True)\n",
        "# batchsize 1000->1로 변경하여 test_loader로 조회시 이미지 한장씩 가져옴\n",
        "test_loader = torch.utils.data.DataLoader(dataset=test_data,\n",
        "                                          batch_size=1,\n",
        "                                          shuffle=True)"
      ],
      "metadata": {
        "id": "zmt6BsoYiiQq",
        "colab": {
          "base_uri": "https://localhost:8080/",
          "height": 404
        },
        "outputId": "7fd5a4eb-fb3f-490f-befc-c2fd820008cc"
      },
      "id": "zmt6BsoYiiQq",
      "execution_count": 27,
      "outputs": [
        {
          "output_type": "stream",
          "name": "stdout",
          "text": [
            "len(train_data): 60000\n",
            "len(test_data): 10000\n",
            "shape: torch.Size([1, 28, 28])\n",
            "label: 3\n",
            "maxval: tensor(2.8215)\n",
            "minval: tensor(-0.4242)\n",
            "mean of all training dataset: tensor(-0.0001)\n",
            "var of all training dataset: tensor(1.0001)\n"
          ]
        },
        {
          "output_type": "display_data",
          "data": {
            "text/plain": [
              "<Figure size 432x288 with 1 Axes>"
            ],
            "image/png": "[encoded data removed]"
          },
          "metadata": {
            "needs_background": "light"
          }
        }
      ]
    },
    {
      "cell_type": "markdown",
      "source": [
        "## 훈련 & 인퍼런스 테스트 코드 정의"
      ],
      "metadata": {
        "id": "N4ffWtEayY-t"
      },
      "id": "N4ffWtEayY-t"
    },
    {
      "cell_type": "code",
      "source": [
        "def train_model(model, device, train_loader, optimizer, n_epochs, fn_loss,\n",
        "                log_interval=10000):\n",
        "    model.train()\n",
        "    for epoch in range(1, n_epochs + 1):\n",
        "        for batch_idx, (data, target) in enumerate(train_loader):\n",
        "            data = data.to(device)\n",
        "            target = target.to(device)\n",
        "            optimizer.zero_grad()\n",
        "            output = model(data)\n",
        "            loss = fn_loss(output, target)\n",
        "            loss.backward()\n",
        "            optimizer.step()\n",
        "            if batch_idx % (log_interval // len(data)) == 0:\n",
        "                print('Train Epoch: {} [{}/{} ({:.0f}%)]\\tLoss: {:.6f}'.format(\n",
        "                      epoch, batch_idx * len(data), len(train_loader.dataset),\n",
        "                      100. * batch_idx / len(train_loader), loss.item()))\n",
        "            \n",
        "def test_model(model, device, data, target):\n",
        "    model.eval()\n",
        "    correct = 0\n",
        "    with torch.no_grad():\n",
        "        data = data.to(device)\n",
        "        target = target.to(device)\n",
        "        output = model(data)\n",
        "        #디멘젼을 유지 하지 않는다. 1차원으로 변경\n",
        "        pred = output.argmax(dim=1, keepdim=False)\n",
        "        print('\\n pred: ', pred)\n",
        "        print('\\n target: ', target)\n",
        "        #그림 그리기 위해선 numpy 타입이 필요해 cpu로 가져옴\n",
        "        plt.imshow(data[0][0].cpu().numpy())\n",
        "        plt.show()\n",
        "        \n",
        "        #결과값을 보기위해 cpu로 가져와서 numpy 타입으로 변경하고 [0]으로 값을 출력\n",
        "        print('\\n pred[0]: ', pred.cpu().numpy()[0])\n",
        "        print('\\n target[0]: ', target.cpu().numpy()[0])\n",
        "\n",
        "\n"
      ],
      "metadata": {
        "id": "36NR-n81yb0l"
      },
      "id": "36NR-n81yb0l",
      "execution_count": 28,
      "outputs": []
    },
    {
      "cell_type": "markdown",
      "source": [
        "## Linear layer 3개 학습\n"
      ],
      "metadata": {
        "id": "uezf4X4a5oHD"
      },
      "id": "uezf4X4a5oHD"
    },
    {
      "cell_type": "code",
      "source": [
        "class ModelV2(torch.nn.Module):\n",
        "    def __init__(self):\n",
        "        super(ModelV2, self).__init__()\n",
        "        self.input_size = 28*28\n",
        "        self.hidden_size = 256\n",
        "        self.output_size = 10\n",
        "        self.layers = torch.nn.Sequential(\n",
        "            torch.nn.Linear(self.input_size, self.hidden_size),\n",
        "            torch.nn.Linear(self.hidden_size, self.hidden_size),\n",
        "            torch.nn.Linear(self.hidden_size, self.output_size),\n",
        "        )\n",
        "\n",
        "    def forward(self, x):\n",
        "        x = x.view(-1, self.input_size)\n",
        "        for idx, layer in enumerate(self.layers):\n",
        "            x = layer(x)\n",
        "            x = F.relu(x) if idx != len(self.layers)-1 else x\n",
        "        output = F.log_softmax(x, dim=1)\n",
        "        return output\n",
        "\n",
        "print(\"loading ModelV2...\") \n",
        "model = ModelV2().to(device)\n",
        "optimizer = torch.optim.SGD(model.parameters(), lr=lr)\n",
        "fn_loss = F.nll_loss\n",
        "print(\"loaded ModelV2 to {}\".format(device))\n",
        "print(model)\n",
        "print('Number of model parameters: ', sum(param.numel() for param in model.parameters()))\n",
        "print(\"device:\", device)\n",
        "print(\"lr:\", lr)\n",
        "print(\"n_epochs:\", n_epochs)\n",
        "print(\"batch_size:\", batch_size)\n",
        "\n",
        "\n",
        "train_model(model, device, train_loader, optimizer, n_epochs, fn_loss, log_interval=60000)"
      ],
      "metadata": {
        "id": "hbXnlqCr5uYm",
        "colab": {
          "base_uri": "https://localhost:8080/"
        },
        "outputId": "9181a069-4159-43ab-f17f-a472084da576"
      },
      "id": "hbXnlqCr5uYm",
      "execution_count": 29,
      "outputs": [
        {
          "output_type": "stream",
          "name": "stdout",
          "text": [
            "loading ModelV2...\n",
            "loaded ModelV2 to cuda\n",
            "ModelV2(\n",
            "  (layers): Sequential(\n",
            "    (0): Linear(in_features=784, out_features=256, bias=True)\n",
            "    (1): Linear(in_features=256, out_features=256, bias=True)\n",
            "    (2): Linear(in_features=256, out_features=10, bias=True)\n",
            "  )\n",
            ")\n",
            "Number of model parameters:  269322\n",
            "device: cuda\n",
            "lr: 0.01\n",
            "n_epochs: 10\n",
            "batch_size: 512\n",
            "Train Epoch: 1 [0/60000 (0%)]\tLoss: 2.312358\n",
            "Train Epoch: 2 [0/60000 (0%)]\tLoss: 1.669297\n",
            "Train Epoch: 3 [0/60000 (0%)]\tLoss: 0.814515\n",
            "Train Epoch: 4 [0/60000 (0%)]\tLoss: 0.607452\n",
            "Train Epoch: 5 [0/60000 (0%)]\tLoss: 0.454868\n",
            "Train Epoch: 6 [0/60000 (0%)]\tLoss: 0.455215\n",
            "Train Epoch: 7 [0/60000 (0%)]\tLoss: 0.390218\n",
            "Train Epoch: 8 [0/60000 (0%)]\tLoss: 0.307778\n",
            "Train Epoch: 9 [0/60000 (0%)]\tLoss: 0.336194\n",
            "Train Epoch: 10 [0/60000 (0%)]\tLoss: 0.275993\n"
          ]
        }
      ]
    },
    {
      "cell_type": "markdown",
      "source": [
        "## 인퍼런스 테스트"
      ],
      "metadata": {
        "id": "O1ll_Ww3MICV"
      },
      "id": "O1ll_Ww3MICV"
    },
    {
      "cell_type": "code",
      "source": [
        "# cnt: batchsize가 1인 상태에서 데이터 하나만 가져오기 위함\n",
        "cnt = 0\n",
        "for data, target in test_loader:\n",
        "    t = time.perf_counter()\n",
        "    test_model(model, device, data, target)\n",
        "    print(\"Eval done. elapsed: {} sec\".format(time.perf_counter() - t))\n",
        "    cnt += 1\n",
        "    if cnt == 10:\n",
        "      break\n",
        "\n",
        "# 모델 재학습 시키지 않기 위해\n",
        "# del model\n",
        "# del optimizer\n",
        "# torch.cuda.empty_cache()"
      ],
      "metadata": {
        "colab": {
          "base_uri": "https://localhost:8080/",
          "height": 421
        },
        "id": "QxBWOJDYGTKE",
        "outputId": "997901b0-b898-453d-a5a4-8a229823d9b3"
      },
      "id": "QxBWOJDYGTKE",
      "execution_count": 26,
      "outputs": [
        {
          "output_type": "stream",
          "name": "stdout",
          "text": [
            "\n",
            " pred:  tensor([9], device='cuda:0')\n",
            "\n",
            " target:  tensor([9], device='cuda:0')\n"
          ]
        },
        {
          "output_type": "display_data",
          "data": {
            "text/plain": [
              "<Figure size 432x288 with 1 Axes>"
            ],
            "image/png": "[encoded data removed]"
          },
          "metadata": {
            "needs_background": "light"
          }
        },
        {
          "output_type": "stream",
          "name": "stdout",
          "text": [
            "\n",
            " pred[0]:  9\n",
            "\n",
            " target[0]:  9\n",
            "Eval done. elapsed: 0.11174757000026148 sec\n"
          ]
        }
      ]
    }
  ],
  "metadata": {
    "kernelspec": {
      "display_name": "Python 3 (ipykernel)",
      "language": "python",
      "name": "python3"
    },
    "language_info": {
      "codemirror_mode": {
        "name": "ipython",
        "version": 3
      },
      "file_extension": ".py",
      "mimetype": "text/x-python",
      "name": "python",
      "nbconvert_exporter": "python",
      "pygments_lexer": "ipython3",
      "version": "3.10.4"
    },
    "colab": {
      "name": "cnrywjd11_mnist_inference.ipynb",
      "provenance": [],
      "collapsed_sections": [],
      "include_colab_link": true
    },
    "accelerator": "GPU"
  },
  "nbformat": 4,
  "nbformat_minor": 5
}
