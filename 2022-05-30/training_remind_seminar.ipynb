{
 "cells": [
  {
   "cell_type": "markdown",
   "id": "12256fb1",
   "metadata": {},
   "source": [
    "# 딥러닝 remind 세미나 1\n",
    "\n",
    "간단한 모델 훈련 및 인퍼런스를 PyTorch를 사용해 google colab gpu에서 시도합니다."
   ]
  }
 ],
 "metadata": {
  "kernelspec": {
   "display_name": "Python 3 (ipykernel)",
   "language": "python",
   "name": "python3"
  },
  "language_info": {
   "codemirror_mode": {
    "name": "ipython",
    "version": 3
   },
   "file_extension": ".py",
   "mimetype": "text/x-python",
   "name": "python",
   "nbconvert_exporter": "python",
   "pygments_lexer": "ipython3",
   "version": "3.10.4"
  }
 },
 "nbformat": 4,
 "nbformat_minor": 5
}
